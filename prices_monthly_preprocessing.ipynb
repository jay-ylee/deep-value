{
 "cells": [
  {
   "cell_type": "code",
   "execution_count": 1,
   "metadata": {},
   "outputs": [],
   "source": [
    "from pathlib import Path\n",
    "import numpy as np\n",
    "import pandas as pd"
   ]
  },
  {
   "cell_type": "code",
   "execution_count": 2,
   "metadata": {},
   "outputs": [],
   "source": [
    "historical = pd.read_csv(Path.cwd() / 'data' / 'historical_prices.csv', parse_dates=['_date'], date_format='%Y-%m-%d')\n",
    "historical['_year'] = historical['_date'].dt.year\n",
    "historical['_month'] = historical['_date'].dt.month\n",
    "historical = historical[(historical['_date'] >= '2012-01-01') & (historical['_date'] <= '2024-04-30')]"
   ]
  },
  {
   "cell_type": "code",
   "execution_count": 3,
   "metadata": {},
   "outputs": [],
   "source": [
    "# meta = pd.read_csv(Path.cwd() / 'data' / 'meta.csv', parse_dates=['first_include'], date_format='%Y-%m-%d')"
   ]
  },
  {
   "cell_type": "code",
   "execution_count": 4,
   "metadata": {},
   "outputs": [],
   "source": [
    "# historical = historical[historical['_date'] >= historical['first_include']].drop('first_include', axis=1).reset_index(drop=True)"
   ]
  },
  {
   "cell_type": "code",
   "execution_count": 5,
   "metadata": {},
   "outputs": [],
   "source": [
    "pre = historical.groupby(['_code', '_year', '_month'], as_index=False)['_value'].count()\n",
    "pre = pre[pre['_value'] <= 2]"
   ]
  },
  {
   "cell_type": "code",
   "execution_count": 6,
   "metadata": {},
   "outputs": [],
   "source": [
    "for v in pre.values:\n",
    "    historical = historical[(historical['_code'] != v[0]) | (historical['_year'] != v[1]) | (historical['_month'] != v[2])]"
   ]
  },
  {
   "cell_type": "code",
   "execution_count": 7,
   "metadata": {},
   "outputs": [],
   "source": [
    "def monthly_nbdays(ts: pd.Series):\n",
    "    return len(ts)\n",
    "\n",
    "def monthly_rtn(ts: pd.Series):\n",
    "    return np.log(ts.iloc[-1] / ts.iloc[0])\n",
    "\n",
    "def monthly_start_high_nbdays(ts: pd.Series):\n",
    "    return ts.argmax() + 1\n",
    "\n",
    "def monthly_start_high_rtn(ts: pd.Series):\n",
    "    return np.log(ts.max() / ts.iloc[0])\n",
    "\n",
    "def monthly_high_low_nbdays(ts: pd.Series):\n",
    "    return ts.iloc[ts.argmax():].argmin() + 1\n",
    "\n",
    "def monthly_high_low_rtn(ts: pd.Series):\n",
    "    return np.log(ts.iloc[ts.argmax():].min() / ts.max())\n",
    "\n",
    "def monthly_high_end_nbdays(ts: pd.Series):\n",
    "    return len(ts) - ts.argmax()\n",
    "\n",
    "def monthly_high_end_rtn(ts: pd.Series):\n",
    "    return np.log(ts.iloc[-1] / ts.max())\n",
    "\n",
    "def monthly_mdd(ts: pd.Series):\n",
    "    r = ts.pct_change(1).fillna(0)\n",
    "    comp_ret = (r+1.).cumprod()\n",
    "    peak = comp_ret.expanding(min_periods=1).max()\n",
    "    dd = comp_ret/peak\n",
    "    return np.log(dd.min())\n",
    "\n",
    "def monthly_vola(ts: pd.Series):\n",
    "    return np.std(np.log(ts.pct_change(1).dropna() + 1.), ddof=1)\n",
    "\n",
    "def monthly_dvola(ts: pd.Series):\n",
    "    return np.std(np.log(ts.pct_change(1).dropna().clip(upper=0.) + 1.), ddof=1)"
   ]
  },
  {
   "cell_type": "code",
   "execution_count": 8,
   "metadata": {},
   "outputs": [],
   "source": [
    "monthly_historical = historical.groupby(['_code', '_year', '_month'], as_index=False)['_value'].agg(\n",
    "    [\n",
    "        monthly_nbdays,\n",
    "        monthly_rtn,\n",
    "        monthly_start_high_nbdays,\n",
    "        monthly_start_high_rtn,\n",
    "        monthly_high_low_nbdays,\n",
    "        monthly_high_low_rtn,\n",
    "        monthly_high_end_nbdays,\n",
    "        monthly_high_end_rtn,\n",
    "        monthly_mdd,\n",
    "        monthly_vola,\n",
    "        monthly_dvola,\n",
    "     ]\n",
    ")"
   ]
  },
  {
   "cell_type": "code",
   "execution_count": 9,
   "metadata": {},
   "outputs": [],
   "source": [
    "monthly_historical.to_csv(Path.cwd() / 'data' / 'historical_prices_monthly_stat.csv', index=False)"
   ]
  },
  {
   "cell_type": "code",
   "execution_count": null,
   "metadata": {},
   "outputs": [],
   "source": [
    "monthly_historical"
   ]
  },
  {
   "cell_type": "code",
   "execution_count": null,
   "metadata": {},
   "outputs": [],
   "source": []
  },
  {
   "cell_type": "code",
   "execution_count": null,
   "metadata": {},
   "outputs": [],
   "source": [
    "monthly_historical"
   ]
  },
  {
   "cell_type": "code",
   "execution_count": null,
   "metadata": {},
   "outputs": [],
   "source": [
    "monthly_historical.to_csv(Path.cwd() / 'data' / 'historical_prices_monthly_stat.csv', index=False)"
   ]
  },
  {
   "cell_type": "code",
   "execution_count": null,
   "metadata": {},
   "outputs": [],
   "source": []
  }
 ],
 "metadata": {
  "kernelspec": {
   "display_name": "deep-value-6X-5X8kJ-py3.10",
   "language": "python",
   "name": "python3"
  },
  "language_info": {
   "codemirror_mode": {
    "name": "ipython",
    "version": 3
   },
   "file_extension": ".py",
   "mimetype": "text/x-python",
   "name": "python",
   "nbconvert_exporter": "python",
   "pygments_lexer": "ipython3",
   "version": "3.10.11"
  }
 },
 "nbformat": 4,
 "nbformat_minor": 2
}
