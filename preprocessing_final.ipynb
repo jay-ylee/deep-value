{
 "cells": [
  {
   "cell_type": "code",
   "execution_count": 1,
   "metadata": {},
   "outputs": [],
   "source": [
    "from pathlib import Path\n",
    "from tqdm import tqdm\n",
    "import numpy as np\n",
    "import pandas as pd"
   ]
  },
  {
   "cell_type": "code",
   "execution_count": 2,
   "metadata": {},
   "outputs": [],
   "source": [
    "meta = pd.read_csv(\n",
    "    Path.cwd() / \"data\" / \"meta.csv\",\n",
    "    parse_dates=[\"first_include\"],\n",
    "    date_format=\"%Y-%m-%d\",\n",
    ")"
   ]
  },
  {
   "cell_type": "code",
   "execution_count": 3,
   "metadata": {},
   "outputs": [],
   "source": [
    "prices = (\n",
    "    pd.read_csv(Path.cwd() / \"data\" / \"historical_prices_monthly_stat.csv\")\n",
    "    .sort_values([\"_code\", \"_year\", \"_month\"], ascending=True)\n",
    "    .reset_index(drop=True)\n",
    ")\n",
    "\n",
    "mvs = (\n",
    "    pd.read_csv(Path.cwd() / \"data\" / \"historical_mvs_monthly_stat.csv\")\n",
    "    .sort_values([\"_code\", \"_year\", \"_month\"], ascending=True)\n",
    "    .reset_index(drop=True)\n",
    ")"
   ]
  },
  {
   "cell_type": "code",
   "execution_count": 4,
   "metadata": {},
   "outputs": [],
   "source": [
    "historical = pd.merge(prices, mvs, on=['_code', '_year', '_month'], how='inner')"
   ]
  },
  {
   "cell_type": "code",
   "execution_count": 5,
   "metadata": {},
   "outputs": [],
   "source": [
    "df = pd.merge(historical, meta, how=\"inner\", on=\"_code\")\n",
    "df[\"ym\"] = pd.to_datetime(\n",
    "    df[\"_year\"].astype(str) + df[\"_month\"].astype(str).str.rjust(2, \"0\"), \n",
    "    format=\"%Y%m\"\n",
    ")\n",
    "# Only use historical price data to remove survival effect\n",
    "df = df[df[\"ym\"] >= df[\"first_include\"]].reset_index(drop=True)"
   ]
  },
  {
   "cell_type": "code",
   "execution_count": 6,
   "metadata": {},
   "outputs": [],
   "source": [
    "df['monthly_rtn_davg'] = df['monthly_rtn'] / df['monthly_nbdays']\n",
    "df['monthly_high_low_rtn_davg'] = df['monthly_high_low_rtn'] / df['monthly_high_low_nbdays']\n",
    "df['monthly_high_end_rtn_davg'] = df['monthly_high_end_rtn'] / df['monthly_high_end_nbdays']\n",
    "df['monthly_start_high_rtn_davg'] = df['monthly_start_high_rtn'] / df['monthly_start_high_nbdays']"
   ]
  },
  {
   "cell_type": "code",
   "execution_count": 7,
   "metadata": {},
   "outputs": [],
   "source": [
    "df['monthly_high_position'] = df['monthly_start_high_nbdays']/df['monthly_nbdays']\n",
    "df['monthly_sharpe'] = df['monthly_rtn_davg']/df['monthly_vola'].clip(lower=1e-5)\n",
    "df['monthly_sortino'] = df['monthly_rtn_davg']/df['monthly_dvola'].clip(lower=1e-5)\n",
    "df['monthly_sterling'] = df['monthly_rtn']/df['monthly_mdd'].clip(upper=-1e-5).abs()"
   ]
  },
  {
   "cell_type": "code",
   "execution_count": 8,
   "metadata": {},
   "outputs": [],
   "source": [
    "temp = df.groupby(['_year', '_month', 'country'], as_index=False)[['monthly_rtn', 'monthly_start_high_rtn', 'monthly_high_end_rtn']].mean()\n",
    "temp.columns = ['_year', '_month', 'country', 'monthly_rtn_csmean', 'monthly_start_high_rtn_csmean', 'monthly_high_end_rtn_csmean']\n",
    "df = pd.merge(df, temp, on=['_year', '_month', 'country'], how='left')\n",
    "\n",
    "temp = df.groupby(['_year', '_month', 'country'], as_index=False)[['monthly_rtn', 'monthly_start_high_rtn', 'monthly_high_end_rtn']].std()\n",
    "temp.columns = ['_year', '_month', 'country', 'monthly_rtn_csstd', 'monthly_start_high_rtn_csstd', 'monthly_high_end_rtn_csstd']\n",
    "df = pd.merge(df, temp, on=['_year', '_month', 'country'], how='left')"
   ]
  },
  {
   "cell_type": "code",
   "execution_count": 9,
   "metadata": {},
   "outputs": [],
   "source": [
    "t3m = df.groupby(['_code'], as_index=False)[['monthly_rtn', 'monthly_start_high_rtn', 'monthly_high_end_rtn']].rolling(3, min_periods=3).mean()[['_code', 'monthly_rtn', 'monthly_start_high_rtn', 'monthly_high_end_rtn']]\n",
    "t3m.columns = ['_code', 'monthly_rtn_3mb_ma', 'monthly_start_high_rtn_3mb_ma', 'monthly_high_end_rtn_3mb_ma']\n",
    "t3s = df.groupby(['_code'], as_index=False)[['monthly_rtn', 'monthly_start_high_rtn', 'monthly_high_end_rtn']].rolling(3, min_periods=3).std()[['_code', 'monthly_rtn', 'monthly_start_high_rtn', 'monthly_high_end_rtn']]\n",
    "t3s.columns = ['_code', 'monthly_rtn_3mb_ms', 'monthly_start_high_rtn_3mb_ms', 'monthly_high_end_rtn_3mb_ms']\n",
    "t6m = df.groupby(['_code'], as_index=False)[['monthly_rtn', 'monthly_start_high_rtn', 'monthly_high_end_rtn']].rolling(6, min_periods=3).mean()[['_code', 'monthly_rtn', 'monthly_start_high_rtn', 'monthly_high_end_rtn']]\n",
    "t6m.columns = ['_code', 'monthly_rtn_6mb_ma', 'monthly_start_high_rtn_6mb_ma', 'monthly_high_end_rtn_6mb_ma']\n",
    "t6s = df.groupby(['_code'], as_index=False)[['monthly_rtn', 'monthly_start_high_rtn', 'monthly_high_end_rtn']].rolling(6, min_periods=3).std()[['_code', 'monthly_rtn', 'monthly_start_high_rtn', 'monthly_high_end_rtn']]\n",
    "t6s.columns = ['_code', 'monthly_rtn_6mb_ms', 'monthly_start_high_rtn_6mb_ms', 'monthly_high_end_rtn_6mb_ms']\n",
    "t12m = df.groupby(['_code'], as_index=False)[['monthly_rtn', 'monthly_start_high_rtn', 'monthly_high_end_rtn']].rolling(12, min_periods=3).mean()[['_code', 'monthly_rtn', 'monthly_start_high_rtn', 'monthly_high_end_rtn']]\n",
    "t12m.columns = ['_code', 'monthly_rtn_12mb_ma', 'monthly_start_high_rtn_12mb_ma', 'monthly_high_end_rtn_12mb_ma']\n",
    "t12s = df.groupby(['_code'], as_index=False)[['monthly_rtn', 'monthly_start_high_rtn', 'monthly_high_end_rtn']].rolling(12, min_periods=3).std()[['_code', 'monthly_rtn', 'monthly_start_high_rtn', 'monthly_high_end_rtn']]\n",
    "t12s.columns = ['_code', 'monthly_rtn_12mb_ms', 'monthly_start_high_rtn_12mb_ms', 'monthly_high_end_rtn_12mb_ms']"
   ]
  },
  {
   "cell_type": "code",
   "execution_count": 10,
   "metadata": {},
   "outputs": [],
   "source": [
    "df = pd.concat(\n",
    "    [\n",
    "        df, \n",
    "        df.groupby(\"_code\", as_index=False)[['monthly_rtn', 'monthly_start_high_rtn', 'monthly_high_end_rtn']].shift(1).rename(columns={c: c+\"_1mb\" for c in df.columns}),\n",
    "        t3m.groupby(\"_code\", as_index=False).shift(1),\n",
    "        t3s.groupby(\"_code\", as_index=False).shift(1),\n",
    "        t6m.groupby(\"_code\", as_index=False).shift(1),\n",
    "        t6s.groupby(\"_code\", as_index=False).shift(1),\n",
    "        t12m.groupby(\"_code\", as_index=False).shift(1),\n",
    "        t12s.groupby(\"_code\", as_index=False).shift(1),\n",
    "    ],\n",
    "    axis=1,\n",
    ").reset_index(drop=True)"
   ]
  },
  {
   "cell_type": "code",
   "execution_count": 11,
   "metadata": {},
   "outputs": [],
   "source": [
    "VAR_PRE = [\n",
    "    '_code',\n",
    "    '_year',\n",
    "    '_month',\n",
    "    'country',\n",
    "    'gics_sector',\n",
    "    'monthly_market_value_avg',\n",
    "    'monthly_rtn',\n",
    "    'monthly_rtn_davg',\n",
    "    'monthly_start_high_rtn',\n",
    "    'monthly_start_high_rtn_davg',\n",
    "    'monthly_high_end_rtn',\n",
    "    'monthly_high_end_rtn_davg',\n",
    "    'monthly_mdd',\n",
    "    'monthly_vola',\n",
    "    'monthly_dvola',\n",
    "    'monthly_high_position', \n",
    "    'monthly_sharpe', \n",
    "    'monthly_sortino',\n",
    "    'monthly_sterling', \n",
    "    'monthly_rtn_csmean',\n",
    "    'monthly_start_high_rtn_csmean', \n",
    "    'monthly_high_end_rtn_csmean',\n",
    "    'monthly_rtn_csstd', \n",
    "    'monthly_start_high_rtn_csstd',\n",
    "    'monthly_high_end_rtn_csstd', \n",
    "    'monthly_rtn_1mb',\n",
    "    'monthly_start_high_rtn_1mb', \n",
    "    'monthly_high_end_rtn_1mb',\n",
    "    'monthly_rtn_3mb_ma', \n",
    "    'monthly_start_high_rtn_3mb_ma',\n",
    "    'monthly_high_end_rtn_3mb_ma', \n",
    "    'monthly_rtn_3mb_ms',\n",
    "    'monthly_start_high_rtn_3mb_ms', \n",
    "    'monthly_high_end_rtn_3mb_ms',\n",
    "    'monthly_rtn_6mb_ma', \n",
    "    'monthly_start_high_rtn_6mb_ma',\n",
    "    'monthly_high_end_rtn_6mb_ma', \n",
    "    'monthly_rtn_6mb_ms',\n",
    "    'monthly_start_high_rtn_6mb_ms', \n",
    "    'monthly_high_end_rtn_6mb_ms',\n",
    "    'monthly_rtn_12mb_ma', \n",
    "    'monthly_start_high_rtn_12mb_ma',\n",
    "    'monthly_high_end_rtn_12mb_ma', \n",
    "    'monthly_rtn_12mb_ms',\n",
    "    'monthly_start_high_rtn_12mb_ms', \n",
    "    'monthly_high_end_rtn_12mb_ms',\n",
    "]"
   ]
  },
  {
   "cell_type": "code",
   "execution_count": 12,
   "metadata": {},
   "outputs": [],
   "source": [
    "df = df[VAR_PRE]\n",
    "df.dropna(inplace=True)"
   ]
  },
  {
   "cell_type": "code",
   "execution_count": 13,
   "metadata": {},
   "outputs": [],
   "source": [
    "df = pd.concat(\n",
    "    [\n",
    "        df, \n",
    "        df.groupby(\"_code\", as_index=False)[['monthly_rtn', 'monthly_start_high_rtn']].shift(-1).rename(columns={c: c + \"_1mf\" for c in df.columns}),\n",
    "    ],\n",
    "    axis=1,\n",
    ").reset_index(drop=True)"
   ]
  },
  {
   "cell_type": "code",
   "execution_count": 15,
   "metadata": {},
   "outputs": [],
   "source": [
    "df.dropna(inplace=True)"
   ]
  },
  {
   "cell_type": "code",
   "execution_count": 18,
   "metadata": {},
   "outputs": [],
   "source": [
    "df.to_csv(Path.cwd() / \"data\" / \"final.csv\",)"
   ]
  },
  {
   "cell_type": "code",
   "execution_count": null,
   "metadata": {},
   "outputs": [],
   "source": []
  }
 ],
 "metadata": {
  "kernelspec": {
   "display_name": "deep-value-6X-5X8kJ-py3.10",
   "language": "python",
   "name": "python3"
  },
  "language_info": {
   "codemirror_mode": {
    "name": "ipython",
    "version": 3
   },
   "file_extension": ".py",
   "mimetype": "text/x-python",
   "name": "python",
   "nbconvert_exporter": "python",
   "pygments_lexer": "ipython3",
   "version": "3.10.11"
  }
 },
 "nbformat": 4,
 "nbformat_minor": 2
}
