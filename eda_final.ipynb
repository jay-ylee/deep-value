{
 "cells": [
  {
   "cell_type": "code",
   "execution_count": 1,
   "metadata": {},
   "outputs": [],
   "source": [
    "from pathlib import Path\n",
    "from tqdm import tqdm\n",
    "import numpy as np\n",
    "import pandas as pd"
   ]
  },
  {
   "cell_type": "code",
   "execution_count": 2,
   "metadata": {},
   "outputs": [],
   "source": [
    "meta = pd.read_csv(\n",
    "    Path.cwd() / \"data\" / \"meta.csv\",\n",
    "    parse_dates=[\"first_include\"],\n",
    "    date_format=\"%Y-%m-%d\",\n",
    ")"
   ]
  },
  {
   "cell_type": "code",
   "execution_count": 3,
   "metadata": {},
   "outputs": [],
   "source": [
    "historical = (\n",
    "    pd.read_csv(Path.cwd() / \"data\" / \"historical_prices_monthly_stat.csv\")\n",
    "    .sort_values([\"_code\", \"_year\", \"_month\"], ascending=True)\n",
    "    .reset_index(drop=True)\n",
    ")"
   ]
  },
  {
   "cell_type": "code",
   "execution_count": 4,
   "metadata": {},
   "outputs": [],
   "source": [
    "df = pd.merge(historical, meta, how=\"inner\", on=\"_code\")\n",
    "df[\"ym\"] = pd.to_datetime(\n",
    "    df[\"_year\"].astype(str) + df[\"_month\"].astype(str).str.rjust(2, \"0\"), \n",
    "    format=\"%Y%m\"\n",
    ")\n",
    "# Only use historical price data to remove survival effect\n",
    "df = df[df[\"ym\"] >= df[\"first_include\"]].reset_index(drop=True)"
   ]
  },
  {
   "cell_type": "code",
   "execution_count": 5,
   "metadata": {},
   "outputs": [
    {
     "data": {
      "text/plain": [
       "2589"
      ]
     },
     "execution_count": 5,
     "metadata": {},
     "output_type": "execute_result"
    }
   ],
   "source": [
    "df['_code'].nunique()"
   ]
  },
  {
   "cell_type": "code",
   "execution_count": 6,
   "metadata": {},
   "outputs": [
    {
     "data": {
      "text/plain": [
       "country\n",
       "CH    1069\n",
       "JN     396\n",
       "SK     178\n",
       "US     946\n",
       "Name: _code, dtype: int64"
      ]
     },
     "execution_count": 6,
     "metadata": {},
     "output_type": "execute_result"
    }
   ],
   "source": [
    "df.groupby('country')['_code'].nunique()"
   ]
  },
  {
   "cell_type": "code",
   "execution_count": 7,
   "metadata": {},
   "outputs": [
    {
     "data": {
      "text/html": [
       "<div>\n",
       "<style scoped>\n",
       "    .dataframe tbody tr th:only-of-type {\n",
       "        vertical-align: middle;\n",
       "    }\n",
       "\n",
       "    .dataframe tbody tr th {\n",
       "        vertical-align: top;\n",
       "    }\n",
       "\n",
       "    .dataframe thead th {\n",
       "        text-align: right;\n",
       "    }\n",
       "</style>\n",
       "<table border=\"1\" class=\"dataframe\">\n",
       "  <thead>\n",
       "    <tr style=\"text-align: right;\">\n",
       "      <th></th>\n",
       "      <th>_code</th>\n",
       "      <th>_year</th>\n",
       "      <th>_month</th>\n",
       "      <th>monthly_nbdays</th>\n",
       "      <th>monthly_rtn</th>\n",
       "      <th>monthly_start_high_nbdays</th>\n",
       "      <th>monthly_start_high_rtn</th>\n",
       "      <th>monthly_high_low_nbdays</th>\n",
       "      <th>monthly_high_low_rtn</th>\n",
       "      <th>monthly_high_end_nbdays</th>\n",
       "      <th>...</th>\n",
       "      <th>monthly_high_end_rtn_davg</th>\n",
       "      <th>monthly_start_high_rtn_davg</th>\n",
       "      <th>ticker</th>\n",
       "      <th>company_name</th>\n",
       "      <th>gics_sector</th>\n",
       "      <th>gics_industry_group</th>\n",
       "      <th>gics_industry</th>\n",
       "      <th>last_include</th>\n",
       "      <th>first_include</th>\n",
       "      <th>ym</th>\n",
       "    </tr>\n",
       "    <tr>\n",
       "      <th>country</th>\n",
       "      <th></th>\n",
       "      <th></th>\n",
       "      <th></th>\n",
       "      <th></th>\n",
       "      <th></th>\n",
       "      <th></th>\n",
       "      <th></th>\n",
       "      <th></th>\n",
       "      <th></th>\n",
       "      <th></th>\n",
       "      <th></th>\n",
       "      <th></th>\n",
       "      <th></th>\n",
       "      <th></th>\n",
       "      <th></th>\n",
       "      <th></th>\n",
       "      <th></th>\n",
       "      <th></th>\n",
       "      <th></th>\n",
       "      <th></th>\n",
       "      <th></th>\n",
       "    </tr>\n",
       "  </thead>\n",
       "  <tbody>\n",
       "    <tr>\n",
       "      <th>CH</th>\n",
       "      <td>59834</td>\n",
       "      <td>59834</td>\n",
       "      <td>59834</td>\n",
       "      <td>59834</td>\n",
       "      <td>59834</td>\n",
       "      <td>59834</td>\n",
       "      <td>59834</td>\n",
       "      <td>59834</td>\n",
       "      <td>59834</td>\n",
       "      <td>59834</td>\n",
       "      <td>...</td>\n",
       "      <td>59834</td>\n",
       "      <td>59834</td>\n",
       "      <td>59834</td>\n",
       "      <td>59834</td>\n",
       "      <td>59834</td>\n",
       "      <td>59834</td>\n",
       "      <td>59834</td>\n",
       "      <td>59834</td>\n",
       "      <td>59834</td>\n",
       "      <td>59834</td>\n",
       "    </tr>\n",
       "    <tr>\n",
       "      <th>JN</th>\n",
       "      <td>42714</td>\n",
       "      <td>42714</td>\n",
       "      <td>42714</td>\n",
       "      <td>42714</td>\n",
       "      <td>42714</td>\n",
       "      <td>42714</td>\n",
       "      <td>42714</td>\n",
       "      <td>42714</td>\n",
       "      <td>42714</td>\n",
       "      <td>42714</td>\n",
       "      <td>...</td>\n",
       "      <td>42714</td>\n",
       "      <td>42714</td>\n",
       "      <td>42714</td>\n",
       "      <td>42714</td>\n",
       "      <td>42714</td>\n",
       "      <td>42714</td>\n",
       "      <td>42714</td>\n",
       "      <td>42714</td>\n",
       "      <td>42714</td>\n",
       "      <td>42714</td>\n",
       "    </tr>\n",
       "    <tr>\n",
       "      <th>SK</th>\n",
       "      <td>16177</td>\n",
       "      <td>16177</td>\n",
       "      <td>16177</td>\n",
       "      <td>16177</td>\n",
       "      <td>16177</td>\n",
       "      <td>16177</td>\n",
       "      <td>16177</td>\n",
       "      <td>16177</td>\n",
       "      <td>16177</td>\n",
       "      <td>16177</td>\n",
       "      <td>...</td>\n",
       "      <td>16177</td>\n",
       "      <td>16177</td>\n",
       "      <td>16177</td>\n",
       "      <td>16177</td>\n",
       "      <td>16177</td>\n",
       "      <td>16177</td>\n",
       "      <td>16177</td>\n",
       "      <td>16177</td>\n",
       "      <td>16177</td>\n",
       "      <td>16177</td>\n",
       "    </tr>\n",
       "    <tr>\n",
       "      <th>US</th>\n",
       "      <td>83125</td>\n",
       "      <td>83125</td>\n",
       "      <td>83125</td>\n",
       "      <td>83125</td>\n",
       "      <td>83125</td>\n",
       "      <td>83125</td>\n",
       "      <td>83125</td>\n",
       "      <td>83125</td>\n",
       "      <td>83125</td>\n",
       "      <td>83125</td>\n",
       "      <td>...</td>\n",
       "      <td>83125</td>\n",
       "      <td>83125</td>\n",
       "      <td>83125</td>\n",
       "      <td>83125</td>\n",
       "      <td>83125</td>\n",
       "      <td>83125</td>\n",
       "      <td>83125</td>\n",
       "      <td>83125</td>\n",
       "      <td>83125</td>\n",
       "      <td>83125</td>\n",
       "    </tr>\n",
       "  </tbody>\n",
       "</table>\n",
       "<p>4 rows × 26 columns</p>\n",
       "</div>"
      ],
      "text/plain": [
       "         _code  _year  _month  monthly_nbdays  monthly_rtn  \\\n",
       "country                                                      \n",
       "CH       59834  59834   59834           59834        59834   \n",
       "JN       42714  42714   42714           42714        42714   \n",
       "SK       16177  16177   16177           16177        16177   \n",
       "US       83125  83125   83125           83125        83125   \n",
       "\n",
       "         monthly_start_high_nbdays  monthly_start_high_rtn  \\\n",
       "country                                                      \n",
       "CH                           59834                   59834   \n",
       "JN                           42714                   42714   \n",
       "SK                           16177                   16177   \n",
       "US                           83125                   83125   \n",
       "\n",
       "         monthly_high_low_nbdays  monthly_high_low_rtn  \\\n",
       "country                                                  \n",
       "CH                         59834                 59834   \n",
       "JN                         42714                 42714   \n",
       "SK                         16177                 16177   \n",
       "US                         83125                 83125   \n",
       "\n",
       "         monthly_high_end_nbdays  ...  monthly_high_end_rtn_davg  \\\n",
       "country                           ...                              \n",
       "CH                         59834  ...                      59834   \n",
       "JN                         42714  ...                      42714   \n",
       "SK                         16177  ...                      16177   \n",
       "US                         83125  ...                      83125   \n",
       "\n",
       "         monthly_start_high_rtn_davg  ticker  company_name  gics_sector  \\\n",
       "country                                                                   \n",
       "CH                             59834   59834         59834        59834   \n",
       "JN                             42714   42714         42714        42714   \n",
       "SK                             16177   16177         16177        16177   \n",
       "US                             83125   83125         83125        83125   \n",
       "\n",
       "         gics_industry_group  gics_industry  last_include  first_include  \\\n",
       "country                                                                    \n",
       "CH                     59834          59834         59834          59834   \n",
       "JN                     42714          42714         42714          42714   \n",
       "SK                     16177          16177         16177          16177   \n",
       "US                     83125          83125         83125          83125   \n",
       "\n",
       "            ym  \n",
       "country         \n",
       "CH       59834  \n",
       "JN       42714  \n",
       "SK       16177  \n",
       "US       83125  \n",
       "\n",
       "[4 rows x 26 columns]"
      ]
     },
     "execution_count": 7,
     "metadata": {},
     "output_type": "execute_result"
    }
   ],
   "source": [
    "df.groupby('country').count()"
   ]
  },
  {
   "cell_type": "code",
   "execution_count": 13,
   "metadata": {},
   "outputs": [
    {
     "data": {
      "text/plain": [
       "[1, 1, 1, 1]"
      ]
     },
     "execution_count": 13,
     "metadata": {},
     "output_type": "execute_result"
    }
   ],
   "source": [
    "[1] * 4"
   ]
  },
  {
   "cell_type": "code",
   "execution_count": 8,
   "metadata": {},
   "outputs": [],
   "source": [
    "bins = [-np.inf, -0.4, -0.3, -0.2, -0.1, -0.05, 0]\n",
    "labels = [f'({bins[i-1]}, {bins[i]}]' for i, _ in enumerate(bins) if i > 0]\n",
    "df['monthly_high_end_rtn_category'] = pd.cut(np.exp(df[\"monthly_high_end_rtn\"])-1., bins=bins, labels=labels).astype(str)"
   ]
  },
  {
   "cell_type": "code",
   "execution_count": 11,
   "metadata": {},
   "outputs": [],
   "source": [
    "df.groupby(['_year','monthly_high_end_rtn_category']).count()['_code'].unstack().to_excel(Path.cwd() / \"data\" / \"tempttt.xlsx\")"
   ]
  },
  {
   "cell_type": "code",
   "execution_count": 12,
   "metadata": {},
   "outputs": [],
   "source": [
    "df.groupby(['monthly_high_end_rtn_category']).count()['_code'].to_excel(Path.cwd() / \"data\" / \"tempttt.xlsx\")"
   ]
  }
 ],
 "metadata": {
  "kernelspec": {
   "display_name": "deep-value-6X-5X8kJ-py3.10",
   "language": "python",
   "name": "python3"
  },
  "language_info": {
   "codemirror_mode": {
    "name": "ipython",
    "version": 3
   },
   "file_extension": ".py",
   "mimetype": "text/x-python",
   "name": "python",
   "nbconvert_exporter": "python",
   "pygments_lexer": "ipython3",
   "version": "3.10.11"
  }
 },
 "nbformat": 4,
 "nbformat_minor": 2
}
