{
 "cells": [
  {
   "cell_type": "code",
   "execution_count": null,
   "metadata": {},
   "outputs": [],
   "source": [
    "from pathlib import Path\n",
    "import numpy as np\n",
    "import pandas as pd"
   ]
  },
  {
   "cell_type": "code",
   "execution_count": null,
   "metadata": {},
   "outputs": [],
   "source": [
    "pth = Path.cwd() / 'data' / 'msci_members'"
   ]
  },
  {
   "cell_type": "code",
   "execution_count": null,
   "metadata": {},
   "outputs": [],
   "source": [
    "l = []\n",
    "for p in pth.iterdir():\n",
    "\n",
    "    df = pd.read_excel(p, engine='openpyxl')[['Ticker', 'Name', 'Weight']]\n",
    "    df.columns = ['ticker', 'company_name', 'weight']\n",
    "    df['index_date'] = pd.to_datetime(p.parts[-1][11:22], format='%b %d %Y').strftime('%Y-%m-%d')\n",
    "    l.append(df)"
   ]
  }
 ],
 "metadata": {
  "kernelspec": {
   "display_name": "deep-value-6X-5X8kJ-py3.10",
   "language": "python",
   "name": "python3"
  },
  "language_info": {
   "name": "python",
   "version": "3.10.11"
  }
 },
 "nbformat": 4,
 "nbformat_minor": 2
}
