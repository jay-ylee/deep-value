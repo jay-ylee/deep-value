{
 "cells": [
  {
   "cell_type": "code",
   "execution_count": 1,
   "metadata": {},
   "outputs": [],
   "source": [
    "from pathlib import Path\n",
    "import numpy as np\n",
    "import pandas as pd"
   ]
  },
  {
   "cell_type": "code",
   "execution_count": 2,
   "metadata": {},
   "outputs": [],
   "source": [
    "historical = pd.read_csv(Path.cwd() / 'data' / 'historical_mvs.csv', parse_dates=['_date'], date_format='%Y-%m-%d')\n",
    "historical['_year'] = historical['_date'].dt.year\n",
    "historical['_month'] = historical['_date'].dt.month\n",
    "historical = historical[(historical['_date'] >= '2012-01-01') & (historical['_date'] <= '2024-04-30')]"
   ]
  },
  {
   "cell_type": "code",
   "execution_count": 3,
   "metadata": {},
   "outputs": [],
   "source": [
    "prices = pd.read_csv(Path.cwd() / 'data' / 'historical_prices.csv', parse_dates=['_date'], date_format='%Y-%m-%d')\n",
    "prices['_year'] = prices['_date'].dt.year\n",
    "prices['_month'] = prices['_date'].dt.month\n",
    "prices = prices[(prices['_date'] >= '2012-01-01') & (prices['_date'] <= '2024-04-30')]"
   ]
  },
  {
   "cell_type": "code",
   "execution_count": 20,
   "metadata": {},
   "outputs": [
    {
     "data": {
      "text/plain": [
       "23"
      ]
     },
     "execution_count": 20,
     "metadata": {},
     "output_type": "execute_result"
    }
   ],
   "source": [
    "len(set(prices._code.unique()) - set(historical._code.unique()))"
   ]
  },
  {
   "cell_type": "code",
   "execution_count": 11,
   "metadata": {},
   "outputs": [],
   "source": [
    "meta = pd.read_csv(Path.cwd() / 'data' / 'meta.csv', parse_dates=['first_include'], date_format='%Y-%m-%d')"
   ]
  },
  {
   "cell_type": "code",
   "execution_count": 12,
   "metadata": {},
   "outputs": [],
   "source": [
    "# historical = historical[historical['_date'] >= historical['first_include']].drop('first_include', axis=1).reset_index(drop=True)"
   ]
  },
  {
   "cell_type": "code",
   "execution_count": 13,
   "metadata": {},
   "outputs": [],
   "source": [
    "pre = historical.groupby(['_code', '_year', '_month'], as_index=False)['_value'].count()\n",
    "pre = pre[pre['_value'] <= 2]"
   ]
  },
  {
   "cell_type": "code",
   "execution_count": 14,
   "metadata": {},
   "outputs": [],
   "source": [
    "for v in pre.values:\n",
    "    historical = historical[(historical['_code'] != v[0]) | (historical['_year'] != v[1]) | (historical['_month'] != v[2])]"
   ]
  },
  {
   "cell_type": "code",
   "execution_count": 15,
   "metadata": {},
   "outputs": [],
   "source": [
    "monthly_historical = historical.groupby(['_code', '_year', '_month'], as_index=False)['_value'].mean()"
   ]
  },
  {
   "cell_type": "code",
   "execution_count": 18,
   "metadata": {},
   "outputs": [],
   "source": [
    "monthly_historical.columns = ['_code', '_year', '_month', 'monthly_market_value_avg']"
   ]
  },
  {
   "cell_type": "code",
   "execution_count": 19,
   "metadata": {},
   "outputs": [
    {
     "data": {
      "text/html": [
       "<div>\n",
       "<style scoped>\n",
       "    .dataframe tbody tr th:only-of-type {\n",
       "        vertical-align: middle;\n",
       "    }\n",
       "\n",
       "    .dataframe tbody tr th {\n",
       "        vertical-align: top;\n",
       "    }\n",
       "\n",
       "    .dataframe thead th {\n",
       "        text-align: right;\n",
       "    }\n",
       "</style>\n",
       "<table border=\"1\" class=\"dataframe\">\n",
       "  <thead>\n",
       "    <tr style=\"text-align: right;\">\n",
       "      <th></th>\n",
       "      <th>_code</th>\n",
       "      <th>_year</th>\n",
       "      <th>_month</th>\n",
       "      <th>monthly_market_value_avg</th>\n",
       "    </tr>\n",
       "  </thead>\n",
       "  <tbody>\n",
       "    <tr>\n",
       "      <th>0</th>\n",
       "      <td>AN8068571086</td>\n",
       "      <td>2014</td>\n",
       "      <td>4</td>\n",
       "      <td>129877.534286</td>\n",
       "    </tr>\n",
       "    <tr>\n",
       "      <th>1</th>\n",
       "      <td>AN8068571086</td>\n",
       "      <td>2014</td>\n",
       "      <td>5</td>\n",
       "      <td>131698.738429</td>\n",
       "    </tr>\n",
       "    <tr>\n",
       "      <th>2</th>\n",
       "      <td>AN8068571086</td>\n",
       "      <td>2014</td>\n",
       "      <td>6</td>\n",
       "      <td>140977.087143</td>\n",
       "    </tr>\n",
       "    <tr>\n",
       "      <th>3</th>\n",
       "      <td>AN8068571086</td>\n",
       "      <td>2014</td>\n",
       "      <td>7</td>\n",
       "      <td>148071.291818</td>\n",
       "    </tr>\n",
       "    <tr>\n",
       "      <th>4</th>\n",
       "      <td>AN8068571086</td>\n",
       "      <td>2014</td>\n",
       "      <td>8</td>\n",
       "      <td>140926.329048</td>\n",
       "    </tr>\n",
       "    <tr>\n",
       "      <th>...</th>\n",
       "      <td>...</td>\n",
       "      <td>...</td>\n",
       "      <td>...</td>\n",
       "      <td>...</td>\n",
       "    </tr>\n",
       "    <tr>\n",
       "      <th>269225</th>\n",
       "      <td>US98980L1017</td>\n",
       "      <td>2023</td>\n",
       "      <td>11</td>\n",
       "      <td>19391.834857</td>\n",
       "    </tr>\n",
       "    <tr>\n",
       "      <th>269226</th>\n",
       "      <td>US98980L1017</td>\n",
       "      <td>2023</td>\n",
       "      <td>12</td>\n",
       "      <td>21803.836250</td>\n",
       "    </tr>\n",
       "    <tr>\n",
       "      <th>269227</th>\n",
       "      <td>US98980L1017</td>\n",
       "      <td>2024</td>\n",
       "      <td>1</td>\n",
       "      <td>20756.626095</td>\n",
       "    </tr>\n",
       "    <tr>\n",
       "      <th>269228</th>\n",
       "      <td>US98980L1017</td>\n",
       "      <td>2024</td>\n",
       "      <td>2</td>\n",
       "      <td>19809.217900</td>\n",
       "    </tr>\n",
       "    <tr>\n",
       "      <th>269229</th>\n",
       "      <td>US98980L1017</td>\n",
       "      <td>2024</td>\n",
       "      <td>3</td>\n",
       "      <td>20700.368950</td>\n",
       "    </tr>\n",
       "  </tbody>\n",
       "</table>\n",
       "<p>269230 rows × 4 columns</p>\n",
       "</div>"
      ],
      "text/plain": [
       "               _code  _year  _month  monthly_market_value_avg\n",
       "0       AN8068571086   2014       4             129877.534286\n",
       "1       AN8068571086   2014       5             131698.738429\n",
       "2       AN8068571086   2014       6             140977.087143\n",
       "3       AN8068571086   2014       7             148071.291818\n",
       "4       AN8068571086   2014       8             140926.329048\n",
       "...              ...    ...     ...                       ...\n",
       "269225  US98980L1017   2023      11              19391.834857\n",
       "269226  US98980L1017   2023      12              21803.836250\n",
       "269227  US98980L1017   2024       1              20756.626095\n",
       "269228  US98980L1017   2024       2              19809.217900\n",
       "269229  US98980L1017   2024       3              20700.368950\n",
       "\n",
       "[269230 rows x 4 columns]"
      ]
     },
     "execution_count": 19,
     "metadata": {},
     "output_type": "execute_result"
    }
   ],
   "source": [
    "monthly_historical"
   ]
  },
  {
   "cell_type": "code",
   "execution_count": null,
   "metadata": {},
   "outputs": [],
   "source": [
    "monthly_historical['monthly_rtn_davg'] = monthly_historical['monthly_rtn'] / monthly_historical['monthly_nbdays']\n",
    "monthly_historical['monthly_high_low_rtn_davg'] = monthly_historical['monthly_high_low_rtn'] / monthly_historical['monthly_high_low_nbdays']\n",
    "monthly_historical['monthly_high_end_rtn_davg'] = monthly_historical['monthly_high_end_rtn'] / monthly_historical['monthly_high_end_nbdays']\n",
    "monthly_historical['monthly_start_high_davg'] = monthly_historical['monthly_start_high_rtn'] / monthly_historical['monthly_start_high_nbdays']"
   ]
  },
  {
   "cell_type": "code",
   "execution_count": null,
   "metadata": {},
   "outputs": [],
   "source": [
    "monthly_historical"
   ]
  },
  {
   "cell_type": "code",
   "execution_count": 21,
   "metadata": {},
   "outputs": [],
   "source": [
    "monthly_historical.to_csv(Path.cwd() / 'data' / 'historical_mvs_monthly_stat.csv', index=False)"
   ]
  },
  {
   "cell_type": "code",
   "execution_count": null,
   "metadata": {},
   "outputs": [],
   "source": [
    "monthly_historical[['_code', '_year', '_month', 'monthly_rtn', 'monthly_high_low_rtn', \n",
    "'monthly_high_end_rtn', \n",
    "'monthly_start_high_rtn', 'daily_rtn_avg', 'daily_vola', 'monthly_mdd',\n",
    "'monthly_rtn_to_daily', 'monthly_high_low_rtn_to_daily',\n",
    "'monthly_high_end_rtn_to_daily', 'monthly_start_high_to_daily']]"
   ]
  },
  {
   "cell_type": "code",
   "execution_count": null,
   "metadata": {},
   "outputs": [],
   "source": []
  }
 ],
 "metadata": {
  "kernelspec": {
   "display_name": "deep-value-6X-5X8kJ-py3.10",
   "language": "python",
   "name": "python3"
  },
  "language_info": {
   "codemirror_mode": {
    "name": "ipython",
    "version": 3
   },
   "file_extension": ".py",
   "mimetype": "text/x-python",
   "name": "python",
   "nbconvert_exporter": "python",
   "pygments_lexer": "ipython3",
   "version": "3.10.11"
  }
 },
 "nbformat": 4,
 "nbformat_minor": 2
}
