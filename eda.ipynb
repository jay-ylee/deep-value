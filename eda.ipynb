{
 "cells": [
  {
   "cell_type": "code",
   "execution_count": 35,
   "metadata": {},
   "outputs": [],
   "source": [
    "from pathlib import Path\n",
    "import numpy as np\n",
    "import pandas as pd"
   ]
  },
  {
   "cell_type": "code",
   "execution_count": 36,
   "metadata": {},
   "outputs": [],
   "source": [
    "meta = pd.read_csv(Path.cwd() / 'data' / 'meta.csv', parse_dates=['first_include'], date_format='%Y-%m-%d')"
   ]
  },
  {
   "cell_type": "code",
   "execution_count": 37,
   "metadata": {},
   "outputs": [],
   "source": [
    "df = pd.read_csv(Path.cwd() / 'data' / 'historical_prices_monthly_stat.csv')\n",
    "df = df.sort_values(['_code', '_year', '_month'], ascending=True).reset_index(drop=True)"
   ]
  },
  {
   "cell_type": "code",
   "execution_count": 38,
   "metadata": {},
   "outputs": [],
   "source": [
    "# bins = [-np.inf, -0.7, -0.6, -0.5, -0.4, -0.3, -0.2, -0.1, -0.05, -0.01, 0]\n",
    "bins = [-np.inf, -0.4, -0.1, -0.01, 0]\n",
    "labels = [f'({bins[i-1]}, {bins[i]}]' for i, _ in enumerate(bins) if i > 0]\n",
    "df['monthly_high_end_rtn_category'] = pd.cut(df['monthly_high_end_rtn'], bins=bins, labels=labels).astype(str)\n",
    "df['before_monthly_high_end_rtn'] = df.groupby('_code', as_index=False)['monthly_high_end_rtn'].shift(1)\n",
    "df['before_monthly_high_end_rtn_category'] = df.groupby('_code', as_index=False)['monthly_high_end_rtn_category'].shift(1)"
   ]
  },
  {
   "cell_type": "code",
   "execution_count": 39,
   "metadata": {},
   "outputs": [
    {
     "data": {
      "text/html": [
       "<div>\n",
       "<style scoped>\n",
       "    .dataframe tbody tr th:only-of-type {\n",
       "        vertical-align: middle;\n",
       "    }\n",
       "\n",
       "    .dataframe tbody tr th {\n",
       "        vertical-align: top;\n",
       "    }\n",
       "\n",
       "    .dataframe thead th {\n",
       "        text-align: right;\n",
       "    }\n",
       "</style>\n",
       "<table border=\"1\" class=\"dataframe\">\n",
       "  <thead>\n",
       "    <tr style=\"text-align: right;\">\n",
       "      <th></th>\n",
       "      <th>_code</th>\n",
       "      <th>_year</th>\n",
       "      <th>_month</th>\n",
       "      <th>monthly_rtn</th>\n",
       "      <th>monthly_high_end_rtn</th>\n",
       "      <th>monthly_start_high_rtn</th>\n",
       "      <th>daily_rtn_avg</th>\n",
       "      <th>daily_vola</th>\n",
       "      <th>daily_dvola</th>\n",
       "      <th>monthly_mdd</th>\n",
       "      <th>monthly_high_end_rtn_category</th>\n",
       "      <th>before_monthly_high_end_rtn</th>\n",
       "      <th>before_monthly_high_end_rtn_category</th>\n",
       "    </tr>\n",
       "  </thead>\n",
       "  <tbody>\n",
       "    <tr>\n",
       "      <th>0</th>\n",
       "      <td>AN8068571086</td>\n",
       "      <td>2014</td>\n",
       "      <td>4</td>\n",
       "      <td>0.036648</td>\n",
       "      <td>-0.006457</td>\n",
       "      <td>0.043385</td>\n",
       "      <td>0.001837</td>\n",
       "      <td>0.008701</td>\n",
       "      <td>0.005368</td>\n",
       "      <td>0.019390</td>\n",
       "      <td>(-0.01, 0]</td>\n",
       "      <td>NaN</td>\n",
       "      <td>NaN</td>\n",
       "    </tr>\n",
       "    <tr>\n",
       "      <th>1</th>\n",
       "      <td>AN8068571086</td>\n",
       "      <td>2014</td>\n",
       "      <td>5</td>\n",
       "      <td>0.032143</td>\n",
       "      <td>0.000000</td>\n",
       "      <td>0.032143</td>\n",
       "      <td>0.001611</td>\n",
       "      <td>0.007609</td>\n",
       "      <td>0.006297</td>\n",
       "      <td>0.023361</td>\n",
       "      <td>(-0.01, 0]</td>\n",
       "      <td>-0.006457</td>\n",
       "      <td>(-0.01, 0]</td>\n",
       "    </tr>\n",
       "    <tr>\n",
       "      <th>2</th>\n",
       "      <td>AN8068571086</td>\n",
       "      <td>2014</td>\n",
       "      <td>6</td>\n",
       "      <td>0.135117</td>\n",
       "      <td>0.000000</td>\n",
       "      <td>0.135117</td>\n",
       "      <td>0.006489</td>\n",
       "      <td>0.016904</td>\n",
       "      <td>0.006522</td>\n",
       "      <td>0.019861</td>\n",
       "      <td>(-0.01, 0]</td>\n",
       "      <td>0.000000</td>\n",
       "      <td>(-0.01, 0]</td>\n",
       "    </tr>\n",
       "    <tr>\n",
       "      <th>3</th>\n",
       "      <td>AN8068571086</td>\n",
       "      <td>2014</td>\n",
       "      <td>7</td>\n",
       "      <td>-0.080272</td>\n",
       "      <td>-0.080272</td>\n",
       "      <td>0.000000</td>\n",
       "      <td>-0.003937</td>\n",
       "      <td>0.009125</td>\n",
       "      <td>0.005828</td>\n",
       "      <td>0.079334</td>\n",
       "      <td>(-0.1, -0.01]</td>\n",
       "      <td>0.000000</td>\n",
       "      <td>(-0.01, 0]</td>\n",
       "    </tr>\n",
       "    <tr>\n",
       "      <th>4</th>\n",
       "      <td>AN8068571086</td>\n",
       "      <td>2014</td>\n",
       "      <td>8</td>\n",
       "      <td>0.015655</td>\n",
       "      <td>-0.012608</td>\n",
       "      <td>0.028624</td>\n",
       "      <td>0.000832</td>\n",
       "      <td>0.010711</td>\n",
       "      <td>0.007118</td>\n",
       "      <td>0.034285</td>\n",
       "      <td>(-0.1, -0.01]</td>\n",
       "      <td>-0.080272</td>\n",
       "      <td>(-0.1, -0.01]</td>\n",
       "    </tr>\n",
       "    <tr>\n",
       "      <th>...</th>\n",
       "      <td>...</td>\n",
       "      <td>...</td>\n",
       "      <td>...</td>\n",
       "      <td>...</td>\n",
       "      <td>...</td>\n",
       "      <td>...</td>\n",
       "      <td>...</td>\n",
       "      <td>...</td>\n",
       "      <td>...</td>\n",
       "      <td>...</td>\n",
       "      <td>...</td>\n",
       "      <td>...</td>\n",
       "      <td>...</td>\n",
       "    </tr>\n",
       "    <tr>\n",
       "      <th>271924</th>\n",
       "      <td>US98980L1017</td>\n",
       "      <td>2023</td>\n",
       "      <td>11</td>\n",
       "      <td>0.129935</td>\n",
       "      <td>-0.001766</td>\n",
       "      <td>0.131934</td>\n",
       "      <td>0.006280</td>\n",
       "      <td>0.017968</td>\n",
       "      <td>0.010555</td>\n",
       "      <td>0.037149</td>\n",
       "      <td>(-0.01, 0]</td>\n",
       "      <td>-0.144487</td>\n",
       "      <td>(-0.4, -0.1]</td>\n",
       "    </tr>\n",
       "    <tr>\n",
       "      <th>271925</th>\n",
       "      <td>US98980L1017</td>\n",
       "      <td>2023</td>\n",
       "      <td>12</td>\n",
       "      <td>0.023047</td>\n",
       "      <td>-0.030993</td>\n",
       "      <td>0.055769</td>\n",
       "      <td>0.001368</td>\n",
       "      <td>0.018804</td>\n",
       "      <td>0.011594</td>\n",
       "      <td>0.043800</td>\n",
       "      <td>(-0.1, -0.01]</td>\n",
       "      <td>-0.001766</td>\n",
       "      <td>(-0.01, 0]</td>\n",
       "    </tr>\n",
       "    <tr>\n",
       "      <th>271926</th>\n",
       "      <td>US98980L1017</td>\n",
       "      <td>2024</td>\n",
       "      <td>1</td>\n",
       "      <td>-0.065654</td>\n",
       "      <td>-0.083026</td>\n",
       "      <td>0.018944</td>\n",
       "      <td>-0.003228</td>\n",
       "      <td>0.018416</td>\n",
       "      <td>0.012142</td>\n",
       "      <td>0.083026</td>\n",
       "      <td>(-0.1, -0.01]</td>\n",
       "      <td>-0.030993</td>\n",
       "      <td>(-0.1, -0.01]</td>\n",
       "    </tr>\n",
       "    <tr>\n",
       "      <th>271927</th>\n",
       "      <td>US98980L1017</td>\n",
       "      <td>2024</td>\n",
       "      <td>2</td>\n",
       "      <td>0.090671</td>\n",
       "      <td>0.000000</td>\n",
       "      <td>0.090671</td>\n",
       "      <td>0.004831</td>\n",
       "      <td>0.023420</td>\n",
       "      <td>0.009059</td>\n",
       "      <td>0.066667</td>\n",
       "      <td>(-0.01, 0]</td>\n",
       "      <td>-0.083026</td>\n",
       "      <td>(-0.1, -0.01]</td>\n",
       "    </tr>\n",
       "    <tr>\n",
       "      <th>271928</th>\n",
       "      <td>US98980L1017</td>\n",
       "      <td>2024</td>\n",
       "      <td>3</td>\n",
       "      <td>-0.078127</td>\n",
       "      <td>-0.078127</td>\n",
       "      <td>0.000000</td>\n",
       "      <td>-0.004130</td>\n",
       "      <td>0.017296</td>\n",
       "      <td>0.012773</td>\n",
       "      <td>0.064539</td>\n",
       "      <td>(-0.1, -0.01]</td>\n",
       "      <td>0.000000</td>\n",
       "      <td>(-0.01, 0]</td>\n",
       "    </tr>\n",
       "  </tbody>\n",
       "</table>\n",
       "<p>271929 rows × 13 columns</p>\n",
       "</div>"
      ],
      "text/plain": [
       "               _code  _year  _month  monthly_rtn  monthly_high_end_rtn  \\\n",
       "0       AN8068571086   2014       4     0.036648             -0.006457   \n",
       "1       AN8068571086   2014       5     0.032143              0.000000   \n",
       "2       AN8068571086   2014       6     0.135117              0.000000   \n",
       "3       AN8068571086   2014       7    -0.080272             -0.080272   \n",
       "4       AN8068571086   2014       8     0.015655             -0.012608   \n",
       "...              ...    ...     ...          ...                   ...   \n",
       "271924  US98980L1017   2023      11     0.129935             -0.001766   \n",
       "271925  US98980L1017   2023      12     0.023047             -0.030993   \n",
       "271926  US98980L1017   2024       1    -0.065654             -0.083026   \n",
       "271927  US98980L1017   2024       2     0.090671              0.000000   \n",
       "271928  US98980L1017   2024       3    -0.078127             -0.078127   \n",
       "\n",
       "        monthly_start_high_rtn  daily_rtn_avg  daily_vola  daily_dvola  \\\n",
       "0                     0.043385       0.001837    0.008701     0.005368   \n",
       "1                     0.032143       0.001611    0.007609     0.006297   \n",
       "2                     0.135117       0.006489    0.016904     0.006522   \n",
       "3                     0.000000      -0.003937    0.009125     0.005828   \n",
       "4                     0.028624       0.000832    0.010711     0.007118   \n",
       "...                        ...            ...         ...          ...   \n",
       "271924                0.131934       0.006280    0.017968     0.010555   \n",
       "271925                0.055769       0.001368    0.018804     0.011594   \n",
       "271926                0.018944      -0.003228    0.018416     0.012142   \n",
       "271927                0.090671       0.004831    0.023420     0.009059   \n",
       "271928                0.000000      -0.004130    0.017296     0.012773   \n",
       "\n",
       "        monthly_mdd monthly_high_end_rtn_category  \\\n",
       "0          0.019390                    (-0.01, 0]   \n",
       "1          0.023361                    (-0.01, 0]   \n",
       "2          0.019861                    (-0.01, 0]   \n",
       "3          0.079334                 (-0.1, -0.01]   \n",
       "4          0.034285                 (-0.1, -0.01]   \n",
       "...             ...                           ...   \n",
       "271924     0.037149                    (-0.01, 0]   \n",
       "271925     0.043800                 (-0.1, -0.01]   \n",
       "271926     0.083026                 (-0.1, -0.01]   \n",
       "271927     0.066667                    (-0.01, 0]   \n",
       "271928     0.064539                 (-0.1, -0.01]   \n",
       "\n",
       "        before_monthly_high_end_rtn before_monthly_high_end_rtn_category  \n",
       "0                               NaN                                  NaN  \n",
       "1                         -0.006457                           (-0.01, 0]  \n",
       "2                          0.000000                           (-0.01, 0]  \n",
       "3                          0.000000                           (-0.01, 0]  \n",
       "4                         -0.080272                        (-0.1, -0.01]  \n",
       "...                             ...                                  ...  \n",
       "271924                    -0.144487                         (-0.4, -0.1]  \n",
       "271925                    -0.001766                           (-0.01, 0]  \n",
       "271926                    -0.030993                        (-0.1, -0.01]  \n",
       "271927                    -0.083026                        (-0.1, -0.01]  \n",
       "271928                     0.000000                           (-0.01, 0]  \n",
       "\n",
       "[271929 rows x 13 columns]"
      ]
     },
     "execution_count": 39,
     "metadata": {},
     "output_type": "execute_result"
    }
   ],
   "source": [
    "df"
   ]
  },
  {
   "cell_type": "code",
   "execution_count": 41,
   "metadata": {},
   "outputs": [],
   "source": [
    "df = pd.merge(df, meta[['_code', 'ticker', 'country', 'gics_sector', 'gics_industry_group', 'gics_industry']], how='left', on='_code').groupby('before_monthly_high_end_rtn_category')[\n",
    "    ['monthly_rtn', 'monthly_start_high_rtn', 'daily_rtn_avg', 'monthly_mdd']].agg(\n",
    "        ['count', 'mean', 'median', 'min', 'max', 'std'])"
   ]
  },
  {
   "cell_type": "code",
   "execution_count": 42,
   "metadata": {},
   "outputs": [
    {
     "data": {
      "text/html": [
       "<div>\n",
       "<style scoped>\n",
       "    .dataframe tbody tr th:only-of-type {\n",
       "        vertical-align: middle;\n",
       "    }\n",
       "\n",
       "    .dataframe tbody tr th {\n",
       "        vertical-align: top;\n",
       "    }\n",
       "\n",
       "    .dataframe thead tr th {\n",
       "        text-align: left;\n",
       "    }\n",
       "\n",
       "    .dataframe thead tr:last-of-type th {\n",
       "        text-align: right;\n",
       "    }\n",
       "</style>\n",
       "<table border=\"1\" class=\"dataframe\">\n",
       "  <thead>\n",
       "    <tr>\n",
       "      <th></th>\n",
       "      <th colspan=\"6\" halign=\"left\">monthly_rtn</th>\n",
       "      <th colspan=\"4\" halign=\"left\">monthly_start_high_rtn</th>\n",
       "      <th>...</th>\n",
       "      <th colspan=\"4\" halign=\"left\">daily_rtn_avg</th>\n",
       "      <th colspan=\"6\" halign=\"left\">monthly_mdd</th>\n",
       "    </tr>\n",
       "    <tr>\n",
       "      <th></th>\n",
       "      <th>count</th>\n",
       "      <th>mean</th>\n",
       "      <th>median</th>\n",
       "      <th>min</th>\n",
       "      <th>max</th>\n",
       "      <th>std</th>\n",
       "      <th>count</th>\n",
       "      <th>mean</th>\n",
       "      <th>median</th>\n",
       "      <th>min</th>\n",
       "      <th>...</th>\n",
       "      <th>median</th>\n",
       "      <th>min</th>\n",
       "      <th>max</th>\n",
       "      <th>std</th>\n",
       "      <th>count</th>\n",
       "      <th>mean</th>\n",
       "      <th>median</th>\n",
       "      <th>min</th>\n",
       "      <th>max</th>\n",
       "      <th>std</th>\n",
       "    </tr>\n",
       "    <tr>\n",
       "      <th>before_monthly_high_end_rtn_category</th>\n",
       "      <th></th>\n",
       "      <th></th>\n",
       "      <th></th>\n",
       "      <th></th>\n",
       "      <th></th>\n",
       "      <th></th>\n",
       "      <th></th>\n",
       "      <th></th>\n",
       "      <th></th>\n",
       "      <th></th>\n",
       "      <th></th>\n",
       "      <th></th>\n",
       "      <th></th>\n",
       "      <th></th>\n",
       "      <th></th>\n",
       "      <th></th>\n",
       "      <th></th>\n",
       "      <th></th>\n",
       "      <th></th>\n",
       "      <th></th>\n",
       "      <th></th>\n",
       "    </tr>\n",
       "  </thead>\n",
       "  <tbody>\n",
       "    <tr>\n",
       "      <th>(-0.01, 0]</th>\n",
       "      <td>59835</td>\n",
       "      <td>0.009278</td>\n",
       "      <td>0.000000</td>\n",
       "      <td>-0.909001</td>\n",
       "      <td>25.681667</td>\n",
       "      <td>0.168326</td>\n",
       "      <td>59835</td>\n",
       "      <td>0.065984</td>\n",
       "      <td>0.037415</td>\n",
       "      <td>0.0</td>\n",
       "      <td>...</td>\n",
       "      <td>0.000139</td>\n",
       "      <td>-0.057508</td>\n",
       "      <td>17.341999</td>\n",
       "      <td>0.071238</td>\n",
       "      <td>59825</td>\n",
       "      <td>0.075424</td>\n",
       "      <td>0.060994</td>\n",
       "      <td>0.0</td>\n",
       "      <td>0.997230</td>\n",
       "      <td>0.059385</td>\n",
       "    </tr>\n",
       "    <tr>\n",
       "      <th>(-0.1, -0.01]</th>\n",
       "      <td>155816</td>\n",
       "      <td>0.006672</td>\n",
       "      <td>0.001951</td>\n",
       "      <td>-0.871383</td>\n",
       "      <td>4.645161</td>\n",
       "      <td>0.101974</td>\n",
       "      <td>155816</td>\n",
       "      <td>0.065521</td>\n",
       "      <td>0.043201</td>\n",
       "      <td>0.0</td>\n",
       "      <td>...</td>\n",
       "      <td>0.000261</td>\n",
       "      <td>-0.081854</td>\n",
       "      <td>0.121692</td>\n",
       "      <td>0.005109</td>\n",
       "      <td>155807</td>\n",
       "      <td>0.079167</td>\n",
       "      <td>0.064567</td>\n",
       "      <td>0.0</td>\n",
       "      <td>0.887529</td>\n",
       "      <td>0.057070</td>\n",
       "    </tr>\n",
       "    <tr>\n",
       "      <th>(-0.4, -0.1]</th>\n",
       "      <td>53086</td>\n",
       "      <td>0.010608</td>\n",
       "      <td>0.005861</td>\n",
       "      <td>-0.998375</td>\n",
       "      <td>17.840580</td>\n",
       "      <td>0.166740</td>\n",
       "      <td>53086</td>\n",
       "      <td>0.096477</td>\n",
       "      <td>0.064935</td>\n",
       "      <td>0.0</td>\n",
       "      <td>...</td>\n",
       "      <td>0.000624</td>\n",
       "      <td>-0.076269</td>\n",
       "      <td>0.627274</td>\n",
       "      <td>0.007988</td>\n",
       "      <td>53084</td>\n",
       "      <td>0.115639</td>\n",
       "      <td>0.090909</td>\n",
       "      <td>0.0</td>\n",
       "      <td>0.998857</td>\n",
       "      <td>0.088719</td>\n",
       "    </tr>\n",
       "    <tr>\n",
       "      <th>(-inf, -0.4]</th>\n",
       "      <td>603</td>\n",
       "      <td>0.195009</td>\n",
       "      <td>0.065089</td>\n",
       "      <td>-0.924103</td>\n",
       "      <td>13.900000</td>\n",
       "      <td>0.877699</td>\n",
       "      <td>603</td>\n",
       "      <td>0.441567</td>\n",
       "      <td>0.205253</td>\n",
       "      <td>0.0</td>\n",
       "      <td>...</td>\n",
       "      <td>0.005433</td>\n",
       "      <td>-0.056966</td>\n",
       "      <td>7.107188</td>\n",
       "      <td>0.314708</td>\n",
       "      <td>602</td>\n",
       "      <td>0.249514</td>\n",
       "      <td>0.204446</td>\n",
       "      <td>0.0</td>\n",
       "      <td>0.985333</td>\n",
       "      <td>0.176604</td>\n",
       "    </tr>\n",
       "  </tbody>\n",
       "</table>\n",
       "<p>4 rows × 24 columns</p>\n",
       "</div>"
      ],
      "text/plain": [
       "                                     monthly_rtn                      \\\n",
       "                                           count      mean    median   \n",
       "before_monthly_high_end_rtn_category                                   \n",
       "(-0.01, 0]                                 59835  0.009278  0.000000   \n",
       "(-0.1, -0.01]                             155816  0.006672  0.001951   \n",
       "(-0.4, -0.1]                               53086  0.010608  0.005861   \n",
       "(-inf, -0.4]                                 603  0.195009  0.065089   \n",
       "\n",
       "                                                                     \\\n",
       "                                           min        max       std   \n",
       "before_monthly_high_end_rtn_category                                  \n",
       "(-0.01, 0]                           -0.909001  25.681667  0.168326   \n",
       "(-0.1, -0.01]                        -0.871383   4.645161  0.101974   \n",
       "(-0.4, -0.1]                         -0.998375  17.840580  0.166740   \n",
       "(-inf, -0.4]                         -0.924103  13.900000  0.877699   \n",
       "\n",
       "                                     monthly_start_high_rtn            \\\n",
       "                                                      count      mean   \n",
       "before_monthly_high_end_rtn_category                                    \n",
       "(-0.01, 0]                                            59835  0.065984   \n",
       "(-0.1, -0.01]                                        155816  0.065521   \n",
       "(-0.4, -0.1]                                          53086  0.096477   \n",
       "(-inf, -0.4]                                            603  0.441567   \n",
       "\n",
       "                                                     ... daily_rtn_avg  \\\n",
       "                                        median  min  ...        median   \n",
       "before_monthly_high_end_rtn_category                 ...                 \n",
       "(-0.01, 0]                            0.037415  0.0  ...      0.000139   \n",
       "(-0.1, -0.01]                         0.043201  0.0  ...      0.000261   \n",
       "(-0.4, -0.1]                          0.064935  0.0  ...      0.000624   \n",
       "(-inf, -0.4]                          0.205253  0.0  ...      0.005433   \n",
       "\n",
       "                                                                     \\\n",
       "                                           min        max       std   \n",
       "before_monthly_high_end_rtn_category                                  \n",
       "(-0.01, 0]                           -0.057508  17.341999  0.071238   \n",
       "(-0.1, -0.01]                        -0.081854   0.121692  0.005109   \n",
       "(-0.4, -0.1]                         -0.076269   0.627274  0.007988   \n",
       "(-inf, -0.4]                         -0.056966   7.107188  0.314708   \n",
       "\n",
       "                                     monthly_mdd                           \\\n",
       "                                           count      mean    median  min   \n",
       "before_monthly_high_end_rtn_category                                        \n",
       "(-0.01, 0]                                 59825  0.075424  0.060994  0.0   \n",
       "(-0.1, -0.01]                             155807  0.079167  0.064567  0.0   \n",
       "(-0.4, -0.1]                               53084  0.115639  0.090909  0.0   \n",
       "(-inf, -0.4]                                 602  0.249514  0.204446  0.0   \n",
       "\n",
       "                                                          \n",
       "                                           max       std  \n",
       "before_monthly_high_end_rtn_category                      \n",
       "(-0.01, 0]                            0.997230  0.059385  \n",
       "(-0.1, -0.01]                         0.887529  0.057070  \n",
       "(-0.4, -0.1]                          0.998857  0.088719  \n",
       "(-inf, -0.4]                          0.985333  0.176604  \n",
       "\n",
       "[4 rows x 24 columns]"
      ]
     },
     "execution_count": 42,
     "metadata": {},
     "output_type": "execute_result"
    }
   ],
   "source": [
    "df"
   ]
  },
  {
   "cell_type": "code",
   "execution_count": 22,
   "metadata": {},
   "outputs": [
    {
     "data": {
      "application/vnd.plotly.v1+json": {
       "config": {
        "plotlyServerURL": "https://plot.ly"
       },
       "data": [
        {
         "marker": {
          "color": "rgb(245,130,32)",
          "opacity": [
           0.5,
           0.6666666666666666,
           0.8333333333333333
          ]
         },
         "type": "bar",
         "x": [
          "(-0.01, 0]",
          "(-0.1, -0.01]",
          "(-0.4, -0.1]",
          "(-inf, -0.4]"
         ],
         "y": [
          59835,
          155816,
          53086,
          603
         ]
        }
       ],
       "layout": {
        "template": {
         "data": {
          "bar": [
           {
            "error_x": {
             "color": "#2a3f5f"
            },
            "error_y": {
             "color": "#2a3f5f"
            },
            "marker": {
             "line": {
              "color": "#E5ECF6",
              "width": 0.5
             },
             "pattern": {
              "fillmode": "overlay",
              "size": 10,
              "solidity": 0.2
             }
            },
            "type": "bar"
           }
          ],
          "barpolar": [
           {
            "marker": {
             "line": {
              "color": "#E5ECF6",
              "width": 0.5
             },
             "pattern": {
              "fillmode": "overlay",
              "size": 10,
              "solidity": 0.2
             }
            },
            "type": "barpolar"
           }
          ],
          "carpet": [
           {
            "aaxis": {
             "endlinecolor": "#2a3f5f",
             "gridcolor": "white",
             "linecolor": "white",
             "minorgridcolor": "white",
             "startlinecolor": "#2a3f5f"
            },
            "baxis": {
             "endlinecolor": "#2a3f5f",
             "gridcolor": "white",
             "linecolor": "white",
             "minorgridcolor": "white",
             "startlinecolor": "#2a3f5f"
            },
            "type": "carpet"
           }
          ],
          "choropleth": [
           {
            "colorbar": {
             "outlinewidth": 0,
             "ticks": ""
            },
            "type": "choropleth"
           }
          ],
          "contour": [
           {
            "colorbar": {
             "outlinewidth": 0,
             "ticks": ""
            },
            "colorscale": [
             [
              0,
              "#0d0887"
             ],
             [
              0.1111111111111111,
              "#46039f"
             ],
             [
              0.2222222222222222,
              "#7201a8"
             ],
             [
              0.3333333333333333,
              "#9c179e"
             ],
             [
              0.4444444444444444,
              "#bd3786"
             ],
             [
              0.5555555555555556,
              "#d8576b"
             ],
             [
              0.6666666666666666,
              "#ed7953"
             ],
             [
              0.7777777777777778,
              "#fb9f3a"
             ],
             [
              0.8888888888888888,
              "#fdca26"
             ],
             [
              1,
              "#f0f921"
             ]
            ],
            "type": "contour"
           }
          ],
          "contourcarpet": [
           {
            "colorbar": {
             "outlinewidth": 0,
             "ticks": ""
            },
            "type": "contourcarpet"
           }
          ],
          "heatmap": [
           {
            "colorbar": {
             "outlinewidth": 0,
             "ticks": ""
            },
            "colorscale": [
             [
              0,
              "#0d0887"
             ],
             [
              0.1111111111111111,
              "#46039f"
             ],
             [
              0.2222222222222222,
              "#7201a8"
             ],
             [
              0.3333333333333333,
              "#9c179e"
             ],
             [
              0.4444444444444444,
              "#bd3786"
             ],
             [
              0.5555555555555556,
              "#d8576b"
             ],
             [
              0.6666666666666666,
              "#ed7953"
             ],
             [
              0.7777777777777778,
              "#fb9f3a"
             ],
             [
              0.8888888888888888,
              "#fdca26"
             ],
             [
              1,
              "#f0f921"
             ]
            ],
            "type": "heatmap"
           }
          ],
          "heatmapgl": [
           {
            "colorbar": {
             "outlinewidth": 0,
             "ticks": ""
            },
            "colorscale": [
             [
              0,
              "#0d0887"
             ],
             [
              0.1111111111111111,
              "#46039f"
             ],
             [
              0.2222222222222222,
              "#7201a8"
             ],
             [
              0.3333333333333333,
              "#9c179e"
             ],
             [
              0.4444444444444444,
              "#bd3786"
             ],
             [
              0.5555555555555556,
              "#d8576b"
             ],
             [
              0.6666666666666666,
              "#ed7953"
             ],
             [
              0.7777777777777778,
              "#fb9f3a"
             ],
             [
              0.8888888888888888,
              "#fdca26"
             ],
             [
              1,
              "#f0f921"
             ]
            ],
            "type": "heatmapgl"
           }
          ],
          "histogram": [
           {
            "marker": {
             "pattern": {
              "fillmode": "overlay",
              "size": 10,
              "solidity": 0.2
             }
            },
            "type": "histogram"
           }
          ],
          "histogram2d": [
           {
            "colorbar": {
             "outlinewidth": 0,
             "ticks": ""
            },
            "colorscale": [
             [
              0,
              "#0d0887"
             ],
             [
              0.1111111111111111,
              "#46039f"
             ],
             [
              0.2222222222222222,
              "#7201a8"
             ],
             [
              0.3333333333333333,
              "#9c179e"
             ],
             [
              0.4444444444444444,
              "#bd3786"
             ],
             [
              0.5555555555555556,
              "#d8576b"
             ],
             [
              0.6666666666666666,
              "#ed7953"
             ],
             [
              0.7777777777777778,
              "#fb9f3a"
             ],
             [
              0.8888888888888888,
              "#fdca26"
             ],
             [
              1,
              "#f0f921"
             ]
            ],
            "type": "histogram2d"
           }
          ],
          "histogram2dcontour": [
           {
            "colorbar": {
             "outlinewidth": 0,
             "ticks": ""
            },
            "colorscale": [
             [
              0,
              "#0d0887"
             ],
             [
              0.1111111111111111,
              "#46039f"
             ],
             [
              0.2222222222222222,
              "#7201a8"
             ],
             [
              0.3333333333333333,
              "#9c179e"
             ],
             [
              0.4444444444444444,
              "#bd3786"
             ],
             [
              0.5555555555555556,
              "#d8576b"
             ],
             [
              0.6666666666666666,
              "#ed7953"
             ],
             [
              0.7777777777777778,
              "#fb9f3a"
             ],
             [
              0.8888888888888888,
              "#fdca26"
             ],
             [
              1,
              "#f0f921"
             ]
            ],
            "type": "histogram2dcontour"
           }
          ],
          "mesh3d": [
           {
            "colorbar": {
             "outlinewidth": 0,
             "ticks": ""
            },
            "type": "mesh3d"
           }
          ],
          "parcoords": [
           {
            "line": {
             "colorbar": {
              "outlinewidth": 0,
              "ticks": ""
             }
            },
            "type": "parcoords"
           }
          ],
          "pie": [
           {
            "automargin": true,
            "type": "pie"
           }
          ],
          "scatter": [
           {
            "fillpattern": {
             "fillmode": "overlay",
             "size": 10,
             "solidity": 0.2
            },
            "type": "scatter"
           }
          ],
          "scatter3d": [
           {
            "line": {
             "colorbar": {
              "outlinewidth": 0,
              "ticks": ""
             }
            },
            "marker": {
             "colorbar": {
              "outlinewidth": 0,
              "ticks": ""
             }
            },
            "type": "scatter3d"
           }
          ],
          "scattercarpet": [
           {
            "marker": {
             "colorbar": {
              "outlinewidth": 0,
              "ticks": ""
             }
            },
            "type": "scattercarpet"
           }
          ],
          "scattergeo": [
           {
            "marker": {
             "colorbar": {
              "outlinewidth": 0,
              "ticks": ""
             }
            },
            "type": "scattergeo"
           }
          ],
          "scattergl": [
           {
            "marker": {
             "colorbar": {
              "outlinewidth": 0,
              "ticks": ""
             }
            },
            "type": "scattergl"
           }
          ],
          "scattermapbox": [
           {
            "marker": {
             "colorbar": {
              "outlinewidth": 0,
              "ticks": ""
             }
            },
            "type": "scattermapbox"
           }
          ],
          "scatterpolar": [
           {
            "marker": {
             "colorbar": {
              "outlinewidth": 0,
              "ticks": ""
             }
            },
            "type": "scatterpolar"
           }
          ],
          "scatterpolargl": [
           {
            "marker": {
             "colorbar": {
              "outlinewidth": 0,
              "ticks": ""
             }
            },
            "type": "scatterpolargl"
           }
          ],
          "scatterternary": [
           {
            "marker": {
             "colorbar": {
              "outlinewidth": 0,
              "ticks": ""
             }
            },
            "type": "scatterternary"
           }
          ],
          "surface": [
           {
            "colorbar": {
             "outlinewidth": 0,
             "ticks": ""
            },
            "colorscale": [
             [
              0,
              "#0d0887"
             ],
             [
              0.1111111111111111,
              "#46039f"
             ],
             [
              0.2222222222222222,
              "#7201a8"
             ],
             [
              0.3333333333333333,
              "#9c179e"
             ],
             [
              0.4444444444444444,
              "#bd3786"
             ],
             [
              0.5555555555555556,
              "#d8576b"
             ],
             [
              0.6666666666666666,
              "#ed7953"
             ],
             [
              0.7777777777777778,
              "#fb9f3a"
             ],
             [
              0.8888888888888888,
              "#fdca26"
             ],
             [
              1,
              "#f0f921"
             ]
            ],
            "type": "surface"
           }
          ],
          "table": [
           {
            "cells": {
             "fill": {
              "color": "#EBF0F8"
             },
             "line": {
              "color": "white"
             }
            },
            "header": {
             "fill": {
              "color": "#C8D4E3"
             },
             "line": {
              "color": "white"
             }
            },
            "type": "table"
           }
          ]
         },
         "layout": {
          "annotationdefaults": {
           "arrowcolor": "#2a3f5f",
           "arrowhead": 0,
           "arrowwidth": 1
          },
          "autotypenumbers": "strict",
          "coloraxis": {
           "colorbar": {
            "outlinewidth": 0,
            "ticks": ""
           }
          },
          "colorscale": {
           "diverging": [
            [
             0,
             "#8e0152"
            ],
            [
             0.1,
             "#c51b7d"
            ],
            [
             0.2,
             "#de77ae"
            ],
            [
             0.3,
             "#f1b6da"
            ],
            [
             0.4,
             "#fde0ef"
            ],
            [
             0.5,
             "#f7f7f7"
            ],
            [
             0.6,
             "#e6f5d0"
            ],
            [
             0.7,
             "#b8e186"
            ],
            [
             0.8,
             "#7fbc41"
            ],
            [
             0.9,
             "#4d9221"
            ],
            [
             1,
             "#276419"
            ]
           ],
           "sequential": [
            [
             0,
             "#0d0887"
            ],
            [
             0.1111111111111111,
             "#46039f"
            ],
            [
             0.2222222222222222,
             "#7201a8"
            ],
            [
             0.3333333333333333,
             "#9c179e"
            ],
            [
             0.4444444444444444,
             "#bd3786"
            ],
            [
             0.5555555555555556,
             "#d8576b"
            ],
            [
             0.6666666666666666,
             "#ed7953"
            ],
            [
             0.7777777777777778,
             "#fb9f3a"
            ],
            [
             0.8888888888888888,
             "#fdca26"
            ],
            [
             1,
             "#f0f921"
            ]
           ],
           "sequentialminus": [
            [
             0,
             "#0d0887"
            ],
            [
             0.1111111111111111,
             "#46039f"
            ],
            [
             0.2222222222222222,
             "#7201a8"
            ],
            [
             0.3333333333333333,
             "#9c179e"
            ],
            [
             0.4444444444444444,
             "#bd3786"
            ],
            [
             0.5555555555555556,
             "#d8576b"
            ],
            [
             0.6666666666666666,
             "#ed7953"
            ],
            [
             0.7777777777777778,
             "#fb9f3a"
            ],
            [
             0.8888888888888888,
             "#fdca26"
            ],
            [
             1,
             "#f0f921"
            ]
           ]
          },
          "colorway": [
           "#636efa",
           "#EF553B",
           "#00cc96",
           "#ab63fa",
           "#FFA15A",
           "#19d3f3",
           "#FF6692",
           "#B6E880",
           "#FF97FF",
           "#FECB52"
          ],
          "font": {
           "color": "#2a3f5f"
          },
          "geo": {
           "bgcolor": "white",
           "lakecolor": "white",
           "landcolor": "#E5ECF6",
           "showlakes": true,
           "showland": true,
           "subunitcolor": "white"
          },
          "hoverlabel": {
           "align": "left"
          },
          "hovermode": "closest",
          "mapbox": {
           "style": "light"
          },
          "paper_bgcolor": "white",
          "plot_bgcolor": "#E5ECF6",
          "polar": {
           "angularaxis": {
            "gridcolor": "white",
            "linecolor": "white",
            "ticks": ""
           },
           "bgcolor": "#E5ECF6",
           "radialaxis": {
            "gridcolor": "white",
            "linecolor": "white",
            "ticks": ""
           }
          },
          "scene": {
           "xaxis": {
            "backgroundcolor": "#E5ECF6",
            "gridcolor": "white",
            "gridwidth": 2,
            "linecolor": "white",
            "showbackground": true,
            "ticks": "",
            "zerolinecolor": "white"
           },
           "yaxis": {
            "backgroundcolor": "#E5ECF6",
            "gridcolor": "white",
            "gridwidth": 2,
            "linecolor": "white",
            "showbackground": true,
            "ticks": "",
            "zerolinecolor": "white"
           },
           "zaxis": {
            "backgroundcolor": "#E5ECF6",
            "gridcolor": "white",
            "gridwidth": 2,
            "linecolor": "white",
            "showbackground": true,
            "ticks": "",
            "zerolinecolor": "white"
           }
          },
          "shapedefaults": {
           "line": {
            "color": "#2a3f5f"
           }
          },
          "ternary": {
           "aaxis": {
            "gridcolor": "white",
            "linecolor": "white",
            "ticks": ""
           },
           "baxis": {
            "gridcolor": "white",
            "linecolor": "white",
            "ticks": ""
           },
           "bgcolor": "#E5ECF6",
           "caxis": {
            "gridcolor": "white",
            "linecolor": "white",
            "ticks": ""
           }
          },
          "title": {
           "x": 0.05
          },
          "xaxis": {
           "automargin": true,
           "gridcolor": "white",
           "linecolor": "white",
           "ticks": "",
           "title": {
            "standoff": 15
           },
           "zerolinecolor": "white",
           "zerolinewidth": 2
          },
          "yaxis": {
           "automargin": true,
           "gridcolor": "white",
           "linecolor": "white",
           "ticks": "",
           "title": {
            "standoff": 15
           },
           "zerolinecolor": "white",
           "zerolinewidth": 2
          }
         }
        }
       }
      }
     },
     "metadata": {},
     "output_type": "display_data"
    }
   ],
   "source": [
    "import plotly.graph_objects as go\n",
    "import plotly.express as px\n",
    "\n",
    "orange = px.colors.sequential.Oranges\n",
    "orange.append('rgb(245,130,32)')\n",
    "\n",
    "fig = go.Figure()\n",
    "\n",
    "fig.add_trace(go.Bar(\n",
    "    y=df[df.columns[0]],\n",
    "    x=df[df.columns[0]].index,\n",
    "    marker = {\n",
    "        'color': 'rgb(245,130,32)',\n",
    "        'opacity': [0.5 + i / (2 * (len(df[df.columns[0]].index)-1)) for i in range(len(df[df.columns[0]].index)-1)]\n",
    "    }\n",
    "))\n",
    "\n",
    "fig.show()"
   ]
  },
  {
   "cell_type": "code",
   "execution_count": null,
   "metadata": {},
   "outputs": [],
   "source": [
    "pd.merge(df, meta[['_code', 'ticker', 'country', 'gics_sector', 'gics_industry_group', 'gics_industry']], how='left', on='_code').groupby(['country', 'before_monthly_high_end_rtn_category'])[\n",
    "    ['monthly_rtn', 'monthly_start_high_rtn', 'daily_rtn_avg', 'monthly_mdd']].agg(\n",
    "        ['count', 'mean', 'median', 'min', 'max', 'std'])"
   ]
  },
  {
   "cell_type": "code",
   "execution_count": null,
   "metadata": {},
   "outputs": [],
   "source": [
    "pd.merge(df, meta[['_code', 'ticker', 'country', 'gics_sector', 'gics_industry_group', 'gics_industry']], how='left', on='_code').groupby(['gics_sector', 'before_monthly_high_end_rtn_category'])[\n",
    "    ['monthly_rtn', 'monthly_start_high_rtn', 'daily_rtn_avg', 'monthly_mdd']].agg(\n",
    "        ['count', 'mean', 'median', 'min', 'max', 'std'])"
   ]
  },
  {
   "cell_type": "code",
   "execution_count": null,
   "metadata": {},
   "outputs": [],
   "source": [
    "pd.merge(df, meta[['_code', 'ticker', 'country', 'gics_sector', 'gics_industry_group', 'gics_industry']], how='left', on='_code').groupby(['gics_sector', 'gics_industry_group', 'before_monthly_high_end_rtn_category'])[\n",
    "    ['monthly_rtn', 'monthly_start_high_rtn', 'daily_rtn_avg', 'monthly_mdd']].agg(\n",
    "        ['count', 'mean', 'median', 'min', 'max', 'std'])"
   ]
  },
  {
   "cell_type": "code",
   "execution_count": null,
   "metadata": {},
   "outputs": [],
   "source": [
    "# import plotly.graph_objects as go\n",
    "\n",
    "# fig = go.Figure()\n",
    "# for lb in labels:\n",
    "#     fig.add_trace(go.Box(x=df[df['before_monthly_high_end_rtn_category'] == lb]['monthly_start_high_rtn'], name=lb, boxpoints=False))\n",
    "# fig.show()"
   ]
  },
  {
   "cell_type": "code",
   "execution_count": null,
   "metadata": {},
   "outputs": [],
   "source": [
    "df['before_monthly_high_end_rtn_category'].value_counts(dropna=False)"
   ]
  },
  {
   "cell_type": "code",
   "execution_count": null,
   "metadata": {},
   "outputs": [],
   "source": [
    "mp = pd.read_csv(Path.cwd() / 'data' / 'gics_mapper.csv', dtype='str')\n",
    "mp.columns = ['value', 'label']"
   ]
  },
  {
   "cell_type": "code",
   "execution_count": null,
   "metadata": {},
   "outputs": [],
   "source": [
    "v = '0'\n",
    "filtered_meta = meta\n",
    "filtered_meta = meta if v == '0' else meta[meta['country'] == v]"
   ]
  },
  {
   "cell_type": "code",
   "execution_count": null,
   "metadata": {},
   "outputs": [],
   "source": [
    "filtered_meta"
   ]
  },
  {
   "cell_type": "code",
   "execution_count": null,
   "metadata": {},
   "outputs": [],
   "source": [
    "df = pd.read_csv(Path.cwd() / 'data' / 'historical_prices_monthly_stat.csv')\n",
    "df = df.sort_values(['_code', '_year', '_month'], ascending=True).reset_index(drop=True)"
   ]
  },
  {
   "cell_type": "code",
   "execution_count": null,
   "metadata": {},
   "outputs": [],
   "source": [
    "df"
   ]
  },
  {
   "cell_type": "code",
   "execution_count": null,
   "metadata": {},
   "outputs": [],
   "source": []
  }
 ],
 "metadata": {
  "kernelspec": {
   "display_name": "deep-value-6X-5X8kJ-py3.10",
   "language": "python",
   "name": "python3"
  },
  "language_info": {
   "codemirror_mode": {
    "name": "ipython",
    "version": 3
   },
   "file_extension": ".py",
   "mimetype": "text/x-python",
   "name": "python",
   "nbconvert_exporter": "python",
   "pygments_lexer": "ipython3",
   "version": "3.10.11"
  }
 },
 "nbformat": 4,
 "nbformat_minor": 2
}
