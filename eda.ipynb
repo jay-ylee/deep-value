{
 "cells": [
  {
   "cell_type": "code",
   "execution_count": 1,
   "metadata": {},
   "outputs": [],
   "source": [
    "from pathlib import Path\n",
    "import numpy as np\n",
    "import pandas as pd"
   ]
  },
  {
   "cell_type": "code",
   "execution_count": 2,
   "metadata": {},
   "outputs": [],
   "source": [
    "meta = pd.read_csv(Path.cwd() / 'data' / 'meta.csv', parse_dates=['first_include'], date_format='%Y-%m-%d')"
   ]
  },
  {
   "cell_type": "code",
   "execution_count": 3,
   "metadata": {},
   "outputs": [],
   "source": [
    "historical = pd.read_csv(Path.cwd() / 'data' / 'historical_prices_monthly_stat.csv').dropna().sort_values(['_code', '_year', '_month'], ascending=True).reset_index(drop=True)"
   ]
  },
  {
   "cell_type": "code",
   "execution_count": 4,
   "metadata": {},
   "outputs": [],
   "source": [
    "df = pd.merge(historical, meta, how=\"inner\", on=\"_code\")\n",
    "df['ym'] = pd.to_datetime(df[\"_year\"].astype(str) + df[\"_month\"].astype(str).str.rjust(2, \"0\"), format=\"%Y%m\")"
   ]
  },
  {
   "cell_type": "code",
   "execution_count": 5,
   "metadata": {},
   "outputs": [],
   "source": [
    "df = df[df[\"ym\"] >= df[\"first_include\"]].reset_index(drop=True)"
   ]
  },
  {
   "cell_type": "code",
   "execution_count": 6,
   "metadata": {},
   "outputs": [],
   "source": [
    "df['monthly_rtn_12m_std'] = df.groupby('_code')['monthly_rtn'].rolling(12, min_periods=3).std().reset_index(drop=True)"
   ]
  },
  {
   "cell_type": "code",
   "execution_count": 7,
   "metadata": {},
   "outputs": [],
   "source": [
    "df['monthly_rtn_12m_avg'] = df.groupby('_code')['monthly_rtn'].rolling(12, min_periods=3).mean().reset_index(drop=True)"
   ]
  },
  {
   "cell_type": "code",
   "execution_count": 8,
   "metadata": {},
   "outputs": [],
   "source": [
    "df = df.dropna().reset_index(drop=True)"
   ]
  },
  {
   "cell_type": "code",
   "execution_count": 9,
   "metadata": {},
   "outputs": [],
   "source": [
    "df = (\n",
    "    pd.concat(\n",
    "        [\n",
    "            df,\n",
    "            df.groupby(\"_code\", as_index=False)\n",
    "            .shift(-1)\n",
    "            .rename(columns={c: \"1mf_\" + c for c in df.columns}),\n",
    "        ],\n",
    "        axis=1,\n",
    "    )\n",
    "    .dropna()\n",
    "    .reset_index(drop=True)\n",
    ")"
   ]
  },
  {
   "cell_type": "code",
   "execution_count": 10,
   "metadata": {},
   "outputs": [],
   "source": [
    "bins = [-np.inf, -0.3, -0.1, -0.01, 0] # [-np.inf, -0.7, -0.6, -0.5, -0.4, -0.3, -0.2, -0.1, -0.05, -0.01, 0]  # [-np.inf, -0.4, -0.1, -0.01, 0] # \n",
    "labels = [f'({bins[i-1]}, {bins[i]}]' for i, _ in enumerate(bins) if i > 0]\n",
    "df['monthly_high_end_rtn_category'] = pd.cut(df['monthly_high_end_rtn'], bins=bins, labels=labels).astype(str)"
   ]
  },
  {
   "cell_type": "code",
   "execution_count": 11,
   "metadata": {},
   "outputs": [],
   "source": [
    "df['monthly_high_end_rtn_sigma_category'] = 'normal'"
   ]
  },
  {
   "cell_type": "code",
   "execution_count": 12,
   "metadata": {},
   "outputs": [],
   "source": [
    "df.loc[(df['monthly_rtn_12m_avg'] - df['monthly_rtn_12m_std']) > df['monthly_high_end_rtn'], 'monthly_high_end_rtn_sigma_category'] = '1sigma'"
   ]
  },
  {
   "cell_type": "code",
   "execution_count": null,
   "metadata": {},
   "outputs": [],
   "source": [
    "# df.loc[(df['monthly_rtn_12m_avg'] - 2 * df['monthly_rtn_12m_std']) > df['monthly_high_end_rtn'], 'monthly_high_end_rtn_sigma_category'] = '2sigma'"
   ]
  },
  {
   "cell_type": "code",
   "execution_count": null,
   "metadata": {},
   "outputs": [],
   "source": [
    "# df.loc[(df['monthly_rtn_12m_avg'] - 3 * df['monthly_rtn_12m_std']) > df['monthly_high_end_rtn'], 'monthly_high_end_rtn_sigma_category'] = '3sigma'"
   ]
  },
  {
   "cell_type": "code",
   "execution_count": 13,
   "metadata": {},
   "outputs": [],
   "source": [
    "df['sigma_coef'] =  (df['monthly_rtn_12m_avg'] - df['monthly_high_end_rtn']) / df['monthly_rtn_12m_std']"
   ]
  },
  {
   "cell_type": "code",
   "execution_count": 14,
   "metadata": {},
   "outputs": [],
   "source": [
    "df.dropna(inplace=True)"
   ]
  },
  {
   "cell_type": "code",
   "execution_count": 15,
   "metadata": {},
   "outputs": [
    {
     "data": {
      "text/plain": [
       "monthly_high_end_rtn_category\n",
       "(-0.01, 0]       0.054672\n",
       "(-0.1, -0.01]    0.059299\n",
       "(-0.3, -0.1]     0.087710\n",
       "(-inf, -0.3]     0.284712\n",
       "Name: 1mf_monthly_start_high_rtn, dtype: float64"
      ]
     },
     "execution_count": 15,
     "metadata": {},
     "output_type": "execute_result"
    }
   ],
   "source": [
    "df.groupby('monthly_high_end_rtn_category')['1mf_monthly_start_high_rtn'].mean()"
   ]
  },
  {
   "cell_type": "code",
   "execution_count": 16,
   "metadata": {},
   "outputs": [
    {
     "data": {
      "text/plain": [
       "monthly_high_end_rtn_sigma_category\n",
       "1sigma     53741\n",
       "normal    140325\n",
       "Name: 1mf_monthly_start_high_rtn, dtype: int64"
      ]
     },
     "execution_count": 16,
     "metadata": {},
     "output_type": "execute_result"
    }
   ],
   "source": [
    "df.groupby('monthly_high_end_rtn_sigma_category')['1mf_monthly_start_high_rtn'].count()"
   ]
  },
  {
   "cell_type": "code",
   "execution_count": 18,
   "metadata": {},
   "outputs": [
    {
     "data": {
      "text/html": [
       "<div>\n",
       "<style scoped>\n",
       "    .dataframe tbody tr th:only-of-type {\n",
       "        vertical-align: middle;\n",
       "    }\n",
       "\n",
       "    .dataframe tbody tr th {\n",
       "        vertical-align: top;\n",
       "    }\n",
       "\n",
       "    .dataframe thead th {\n",
       "        text-align: right;\n",
       "    }\n",
       "</style>\n",
       "<table border=\"1\" class=\"dataframe\">\n",
       "  <thead>\n",
       "    <tr style=\"text-align: right;\">\n",
       "      <th>monthly_high_end_rtn_sigma_category</th>\n",
       "      <th>normal</th>\n",
       "      <th>1sigma</th>\n",
       "    </tr>\n",
       "    <tr>\n",
       "      <th>monthly_high_end_rtn_category</th>\n",
       "      <th></th>\n",
       "      <th></th>\n",
       "    </tr>\n",
       "  </thead>\n",
       "  <tbody>\n",
       "    <tr>\n",
       "      <th>(-0.01, 0]</th>\n",
       "      <td>41672</td>\n",
       "      <td>795</td>\n",
       "    </tr>\n",
       "    <tr>\n",
       "      <th>(-0.1, -0.01]</th>\n",
       "      <td>88489</td>\n",
       "      <td>26196</td>\n",
       "    </tr>\n",
       "    <tr>\n",
       "      <th>(-0.3, -0.1]</th>\n",
       "      <td>9976</td>\n",
       "      <td>25410</td>\n",
       "    </tr>\n",
       "    <tr>\n",
       "      <th>(-inf, -0.3]</th>\n",
       "      <td>188</td>\n",
       "      <td>1340</td>\n",
       "    </tr>\n",
       "  </tbody>\n",
       "</table>\n",
       "</div>"
      ],
      "text/plain": [
       "monthly_high_end_rtn_sigma_category  normal  1sigma\n",
       "monthly_high_end_rtn_category                      \n",
       "(-0.01, 0]                            41672     795\n",
       "(-0.1, -0.01]                         88489   26196\n",
       "(-0.3, -0.1]                           9976   25410\n",
       "(-inf, -0.3]                            188    1340"
      ]
     },
     "execution_count": 18,
     "metadata": {},
     "output_type": "execute_result"
    }
   ],
   "source": [
    "pd.crosstab(df['monthly_high_end_rtn_category'], df['monthly_high_end_rtn_sigma_category'])[['normal', '1sigma']]"
   ]
  },
  {
   "cell_type": "code",
   "execution_count": 23,
   "metadata": {},
   "outputs": [
    {
     "data": {
      "text/html": [
       "<div>\n",
       "<style scoped>\n",
       "    .dataframe tbody tr th:only-of-type {\n",
       "        vertical-align: middle;\n",
       "    }\n",
       "\n",
       "    .dataframe tbody tr th {\n",
       "        vertical-align: top;\n",
       "    }\n",
       "\n",
       "    .dataframe thead th {\n",
       "        text-align: right;\n",
       "    }\n",
       "</style>\n",
       "<table border=\"1\" class=\"dataframe\">\n",
       "  <thead>\n",
       "    <tr style=\"text-align: right;\">\n",
       "      <th></th>\n",
       "      <th>monthly_high_end_rtn_sigma_category</th>\n",
       "      <th>monthly_high_end_rtn_category</th>\n",
       "      <th>count</th>\n",
       "      <th>mean</th>\n",
       "      <th>median</th>\n",
       "      <th>std</th>\n",
       "    </tr>\n",
       "  </thead>\n",
       "  <tbody>\n",
       "    <tr>\n",
       "      <th>0</th>\n",
       "      <td>1sigma</td>\n",
       "      <td>(-0.01, 0]</td>\n",
       "      <td>795</td>\n",
       "      <td>0.050748</td>\n",
       "      <td>0.032692</td>\n",
       "      <td>0.063039</td>\n",
       "    </tr>\n",
       "    <tr>\n",
       "      <th>1</th>\n",
       "      <td>1sigma</td>\n",
       "      <td>(-0.1, -0.01]</td>\n",
       "      <td>26196</td>\n",
       "      <td>0.052202</td>\n",
       "      <td>0.040042</td>\n",
       "      <td>0.053143</td>\n",
       "    </tr>\n",
       "    <tr>\n",
       "      <th>2</th>\n",
       "      <td>1sigma</td>\n",
       "      <td>(-0.3, -0.1]</td>\n",
       "      <td>25410</td>\n",
       "      <td>0.078208</td>\n",
       "      <td>0.056897</td>\n",
       "      <td>0.082945</td>\n",
       "    </tr>\n",
       "    <tr>\n",
       "      <th>3</th>\n",
       "      <td>1sigma</td>\n",
       "      <td>(-inf, -0.3]</td>\n",
       "      <td>1340</td>\n",
       "      <td>0.243831</td>\n",
       "      <td>0.136625</td>\n",
       "      <td>0.411639</td>\n",
       "    </tr>\n",
       "    <tr>\n",
       "      <th>4</th>\n",
       "      <td>normal</td>\n",
       "      <td>(-0.01, 0]</td>\n",
       "      <td>41672</td>\n",
       "      <td>0.054747</td>\n",
       "      <td>0.034521</td>\n",
       "      <td>0.165458</td>\n",
       "    </tr>\n",
       "    <tr>\n",
       "      <th>5</th>\n",
       "      <td>normal</td>\n",
       "      <td>(-0.1, -0.01]</td>\n",
       "      <td>88489</td>\n",
       "      <td>0.061400</td>\n",
       "      <td>0.041270</td>\n",
       "      <td>0.079907</td>\n",
       "    </tr>\n",
       "    <tr>\n",
       "      <th>6</th>\n",
       "      <td>normal</td>\n",
       "      <td>(-0.3, -0.1]</td>\n",
       "      <td>9976</td>\n",
       "      <td>0.111912</td>\n",
       "      <td>0.070824</td>\n",
       "      <td>0.253453</td>\n",
       "    </tr>\n",
       "    <tr>\n",
       "      <th>7</th>\n",
       "      <td>normal</td>\n",
       "      <td>(-inf, -0.3]</td>\n",
       "      <td>188</td>\n",
       "      <td>0.576093</td>\n",
       "      <td>0.187739</td>\n",
       "      <td>1.439759</td>\n",
       "    </tr>\n",
       "  </tbody>\n",
       "</table>\n",
       "</div>"
      ],
      "text/plain": [
       "  monthly_high_end_rtn_sigma_category monthly_high_end_rtn_category  count  \\\n",
       "0                              1sigma                    (-0.01, 0]    795   \n",
       "1                              1sigma                 (-0.1, -0.01]  26196   \n",
       "2                              1sigma                  (-0.3, -0.1]  25410   \n",
       "3                              1sigma                  (-inf, -0.3]   1340   \n",
       "4                              normal                    (-0.01, 0]  41672   \n",
       "5                              normal                 (-0.1, -0.01]  88489   \n",
       "6                              normal                  (-0.3, -0.1]   9976   \n",
       "7                              normal                  (-inf, -0.3]    188   \n",
       "\n",
       "       mean    median       std  \n",
       "0  0.050748  0.032692  0.063039  \n",
       "1  0.052202  0.040042  0.053143  \n",
       "2  0.078208  0.056897  0.082945  \n",
       "3  0.243831  0.136625  0.411639  \n",
       "4  0.054747  0.034521  0.165458  \n",
       "5  0.061400  0.041270  0.079907  \n",
       "6  0.111912  0.070824  0.253453  \n",
       "7  0.576093  0.187739  1.439759  "
      ]
     },
     "execution_count": 23,
     "metadata": {},
     "output_type": "execute_result"
    }
   ],
   "source": [
    "df.groupby(['monthly_high_end_rtn_sigma_category', 'monthly_high_end_rtn_category'], as_index=False)['1mf_monthly_start_high_rtn'].agg(['count', 'mean', 'median', 'std'])"
   ]
  },
  {
   "cell_type": "code",
   "execution_count": 20,
   "metadata": {},
   "outputs": [],
   "source": [
    "# import plotly.express as px\n",
    "\n",
    "# fig = px.scatter(df, \n",
    "#               x=\"sigma_coef\", \n",
    "#               y=\"monthly_high_end_rtn\", \n",
    "# )\n",
    "# fig.update_traces(marker={'size': 2})\n",
    "\n",
    "# fig.show()"
   ]
  },
  {
   "cell_type": "code",
   "execution_count": null,
   "metadata": {},
   "outputs": [],
   "source": [
    "# bins = [-np.inf, -0.4, -0.1, -0.01, 0] # [-np.inf, -0.7, -0.6, -0.5, -0.4, -0.3, -0.2, -0.1, -0.05, -0.01, 0] \n",
    "# labels = [f'({bins[i-1]}, {bins[i]}]' for i, _ in enumerate(bins) if i > 0]\n",
    "# df['monthly_high_end_rtn_category'] = pd.cut(df['monthly_high_end_rtn'], bins=bins, labels=labels).astype(str)\n",
    "# df['before_monthly_high_end_rtn'] = df.groupby('_code', as_index=False)['monthly_high_end_rtn'].shift(1)\n",
    "# df['before_monthly_high_end_rtn_category'] = df.groupby('_code', as_index=False)['monthly_high_end_rtn_category'].shift(1)"
   ]
  },
  {
   "cell_type": "code",
   "execution_count": null,
   "metadata": {},
   "outputs": [],
   "source": [
    "# df.dropna(inplace=True)"
   ]
  },
  {
   "cell_type": "code",
   "execution_count": null,
   "metadata": {},
   "outputs": [],
   "source": [
    "# import plotly.graph_objects as go\n",
    "\n",
    "# fig = go.Figure()\n",
    "# fig.add_trace(go.Box(\n",
    "#     y = df[df['before_monthly_high_end_rtn_category'] == labels[0]]['monthly_start_high_rtn'],\n",
    "#     name=labels[0],\n",
    "#     boxmean='sd',\n",
    "#     boxpoints=False\n",
    "# ))\n",
    "# fig.add_trace(go.Box(\n",
    "#     y = df[df['before_monthly_high_end_rtn_category'] == labels[1]]['monthly_start_high_rtn'],\n",
    "#     name=labels[1],\n",
    "#     boxmean='sd',\n",
    "#     boxpoints=False\n",
    "# ))\n",
    "# fig.add_trace(go.Box(\n",
    "#     y = df[df['before_monthly_high_end_rtn_category'] == labels[2]]['monthly_start_high_rtn'],\n",
    "#     name=labels[2],\n",
    "#     boxmean='sd',\n",
    "#     boxpoints=False\n",
    "# ))\n",
    "# fig.add_trace(go.Box(\n",
    "#     y = df[df['before_monthly_high_end_rtn_category'] == labels[3]]['monthly_start_high_rtn'],\n",
    "#     name=labels[3],\n",
    "#     boxmean='sd',\n",
    "#     boxpoints=False\n",
    "# ))\n",
    "# fig.show()"
   ]
  },
  {
   "cell_type": "code",
   "execution_count": null,
   "metadata": {},
   "outputs": [],
   "source": [
    "total_grp = df.groupby(['ym'], as_index=False)['monthly_start_high_rtn'].agg(['count', 'mean', 'std', 'median'])\n",
    "total_grp['before_monthly_high_end_rtn_category'] = 'Total'\n",
    "bins_grp = df.groupby(['before_monthly_high_end_rtn_category', 'ym'], as_index=False)['monthly_start_high_rtn'].agg(['count', 'mean', 'std', 'median'])\n",
    "grp = pd.concat([total_grp, bins_grp]).reset_index(drop=True)"
   ]
  },
  {
   "cell_type": "code",
   "execution_count": null,
   "metadata": {},
   "outputs": [],
   "source": [
    "grp"
   ]
  },
  {
   "cell_type": "code",
   "execution_count": null,
   "metadata": {},
   "outputs": [],
   "source": [
    "import plotly.express as px\n",
    "\n",
    "fig = px.line(grp, \n",
    "              x=\"ym\", \n",
    "              y=\"mean\", \n",
    "              color=\"before_monthly_high_end_rtn_category\",\n",
    "              markers=True, \n",
    "              hover_name=\"before_monthly_high_end_rtn_category\",\n",
    "              hover_data={'before_monthly_high_end_rtn_category': False,\n",
    "                          'ym': False,\n",
    "                          'count': True,\n",
    "                          'mean': ':.4f',\n",
    "                          'mean': ':.4f',\n",
    "                          'std': ':.4f'})\n",
    "fig.update_layout(hovermode=\"x unified\")\n",
    "\n",
    "fig.show()"
   ]
  },
  {
   "cell_type": "code",
   "execution_count": null,
   "metadata": {},
   "outputs": [],
   "source": [
    "import plotly.graph_objects as go\n",
    "\n",
    "fig = go.Figure()\n",
    "fig.add_trace(go.Scatter(\n",
    "    x = df.groupby(['ym'], as_index=False)['monthly_start_high_rtn'].mean()['ym'],\n",
    "    y = df.groupby(['ym'], as_index=False)['monthly_start_high_rtn'].mean()['monthly_start_high_rtn'],))\n",
    "fig.add_trace(go.Scatter(\n",
    "    x = df[df['before_monthly_high_end_rtn_category'] == '(-0.01, 0]'].groupby(['ym'], as_index=False)['monthly_start_high_rtn'].mean()['ym'],\n",
    "    y = df[df['before_monthly_high_end_rtn_category'] == '(-0.01, 0]'].groupby(['ym'], as_index=False)['monthly_start_high_rtn'].mean()['monthly_start_high_rtn'],))\n",
    "fig.add_trace(go.Scatter(\n",
    "    x = df[df['before_monthly_high_end_rtn_category'] == '(-0.1, -0.01]'].groupby(['ym'], as_index=False)['monthly_start_high_rtn'].mean()['ym'],\n",
    "    y = df[df['before_monthly_high_end_rtn_category'] == '(-0.1, -0.01]'].groupby(['ym'], as_index=False)['monthly_start_high_rtn'].mean()['monthly_start_high_rtn'],))\n",
    "fig.add_trace(go.Scatter(\n",
    "    x = df[df['before_monthly_high_end_rtn_category'] == '(-0.4, -0.1]'].groupby(['ym'], as_index=False)['monthly_start_high_rtn'].mean()['ym'],\n",
    "    y = df[df['before_monthly_high_end_rtn_category'] == '(-0.4, -0.1]'].groupby(['ym'], as_index=False)['monthly_start_high_rtn'].mean()['monthly_start_high_rtn'],))\n",
    "fig.add_trace(go.Scatter(\n",
    "    x = df[df['before_monthly_high_end_rtn_category'] == '(-inf, -0.4]'].groupby(['ym'], as_index=False)['monthly_start_high_rtn'].mean()['ym'],\n",
    "    y = df[df['before_monthly_high_end_rtn_category'] == '(-inf, -0.4]'].groupby(['ym'], as_index=False)['monthly_start_high_rtn'].mean()['monthly_start_high_rtn'],))\n",
    "fig.show()"
   ]
  },
  {
   "cell_type": "code",
   "execution_count": null,
   "metadata": {},
   "outputs": [],
   "source": [
    "df.groupby(['before_monthly_high_end_rtn_category', 'ym'], as_index=False)[['monthly_start_high_rtn', 'monthly_rtn']].agg('mean')"
   ]
  },
  {
   "cell_type": "code",
   "execution_count": null,
   "metadata": {},
   "outputs": [],
   "source": [
    "labels"
   ]
  },
  {
   "cell_type": "code",
   "execution_count": null,
   "metadata": {},
   "outputs": [],
   "source": [
    "df.columns"
   ]
  },
  {
   "cell_type": "code",
   "execution_count": null,
   "metadata": {},
   "outputs": [],
   "source": [
    "df_count = df.groupby(\"before_monthly_high_end_rtn_category\")[\n",
    "    \"monthly_start_high_rtn\"\n",
    "].count().reset_index(drop=False)"
   ]
  },
  {
   "cell_type": "code",
   "execution_count": null,
   "metadata": {},
   "outputs": [],
   "source": [
    "df[df['before_monthly_high_end_rtn_category'] == '(-inf, -0.4]'][['before_monthly_high_end_rtn', 'monthly_start_high_rtn']].corr()"
   ]
  },
  {
   "cell_type": "code",
   "execution_count": null,
   "metadata": {},
   "outputs": [],
   "source": [
    "import plotly.figure_factory as ff\n",
    "\n",
    "hist_data = [\n",
    "    df[df['before_monthly_high_end_rtn_category'] == '(-inf, -0.4]']['monthly_start_high_rtn'], \n",
    "    df[df['before_monthly_high_end_rtn_category'] == '(-0.4, -0.1]']['monthly_start_high_rtn'], \n",
    "    df[df['before_monthly_high_end_rtn_category'] == '(-0.1, -0.01]']['monthly_start_high_rtn'],\n",
    "    df[df['before_monthly_high_end_rtn_category'] == '(-0.01, 0]']['monthly_start_high_rtn'], \n",
    "]\n",
    "\n",
    "group_labels = [\n",
    "    '(-inf, -0.4]', \n",
    "    '(-0.4, -0.1]', \n",
    "    '(-0.1, -0.01]',\n",
    "    '(-0.01, 0]', \n",
    "]\n",
    "\n",
    "colors = ['#333F44', '#37AA9C', '#94F3E4', 'slategray']\n",
    "\n",
    "# Create distplot with curve_type set to 'normal'\n",
    "fig = ff.create_distplot(hist_data, group_labels, show_hist=False, colors=colors, show_rug=False, histnorm='probability')\n",
    "\n",
    "# Add title\n",
    "fig.update_xaxes()\n",
    "fig.update_layout(title_text='Curve and Rug Plot', width=800)\n",
    "fig.show()"
   ]
  },
  {
   "cell_type": "code",
   "execution_count": null,
   "metadata": {},
   "outputs": [],
   "source": []
  }
 ],
 "metadata": {
  "kernelspec": {
   "display_name": "deep-value-6X-5X8kJ-py3.10",
   "language": "python",
   "name": "python3"
  },
  "language_info": {
   "codemirror_mode": {
    "name": "ipython",
    "version": 3
   },
   "file_extension": ".py",
   "mimetype": "text/x-python",
   "name": "python",
   "nbconvert_exporter": "python",
   "pygments_lexer": "ipython3",
   "version": "3.10.11"
  }
 },
 "nbformat": 4,
 "nbformat_minor": 2
}
