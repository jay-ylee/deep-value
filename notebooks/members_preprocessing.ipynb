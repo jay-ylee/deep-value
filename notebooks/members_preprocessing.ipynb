{
 "cells": [
  {
   "cell_type": "code",
   "execution_count": 1,
   "metadata": {},
   "outputs": [],
   "source": [
    "from pathlib import Path\n",
    "import numpy as np\n",
    "import pandas as pd\n",
    "from tqdm import tqdm"
   ]
  },
  {
   "cell_type": "code",
   "execution_count": 6,
   "metadata": {},
   "outputs": [],
   "source": [
    "members = pd.read_excel(Path.cwd().parent / 'data/msci_acwi' / 'mxwd_members.xlsx')"
   ]
  },
  {
   "cell_type": "code",
   "execution_count": 4,
   "metadata": {},
   "outputs": [],
   "source": [
    "meta = pd.read_excel(Path.cwd().parent / 'data/msci_acwi' / 'mxwd_members_unique.xlsx')"
   ]
  },
  {
   "cell_type": "code",
   "execution_count": 10,
   "metadata": {},
   "outputs": [],
   "source": [
    "meta = pd.read_excel(Path.cwd().parent / 'data' / 'msci_acwi' / 'mxwd_members_unique.xlsx')\n",
    "meta.columns = [c.lower() for c in meta.columns]\n",
    "meta.drop(['weight', 'country_full_name', 'company_name', 'index_date'], axis=1, inplace=True)\n",
    "meta.dropna(how='any', inplace=True)\n",
    "meta.columns = ['ticker', 'gics_sector', 'gics_industry', 'gics_industry_group', '_code', 'country']\n",
    "meta = meta[meta.country.isin(['US', 'CH', 'JN', 'SK'])]"
   ]
  },
  {
   "cell_type": "code",
   "execution_count": 11,
   "metadata": {},
   "outputs": [
    {
     "data": {
      "text/html": [
       "<div>\n",
       "<style scoped>\n",
       "    .dataframe tbody tr th:only-of-type {\n",
       "        vertical-align: middle;\n",
       "    }\n",
       "\n",
       "    .dataframe tbody tr th {\n",
       "        vertical-align: top;\n",
       "    }\n",
       "\n",
       "    .dataframe thead th {\n",
       "        text-align: right;\n",
       "    }\n",
       "</style>\n",
       "<table border=\"1\" class=\"dataframe\">\n",
       "  <thead>\n",
       "    <tr style=\"text-align: right;\">\n",
       "      <th></th>\n",
       "      <th>ticker</th>\n",
       "      <th>gics_sector</th>\n",
       "      <th>gics_industry</th>\n",
       "      <th>gics_industry_group</th>\n",
       "      <th>_code</th>\n",
       "      <th>country</th>\n",
       "    </tr>\n",
       "  </thead>\n",
       "  <tbody>\n",
       "    <tr>\n",
       "      <th>0</th>\n",
       "      <td>4091 JT Equity</td>\n",
       "      <td>Materials</td>\n",
       "      <td>Chemicals</td>\n",
       "      <td>Materials</td>\n",
       "      <td>JP3711600001</td>\n",
       "      <td>JN</td>\n",
       "    </tr>\n",
       "    <tr>\n",
       "      <th>2</th>\n",
       "      <td>8960 JT Equity</td>\n",
       "      <td>Real Estate</td>\n",
       "      <td>Diversified REITs</td>\n",
       "      <td>Equity Real Estate Investment</td>\n",
       "      <td>JP3045540006</td>\n",
       "      <td>JN</td>\n",
       "    </tr>\n",
       "    <tr>\n",
       "      <th>3</th>\n",
       "      <td>9876544D UN Equity</td>\n",
       "      <td>Consumer Discretionary</td>\n",
       "      <td>Hotels, Restaurants &amp; Leisure</td>\n",
       "      <td>Consumer Services</td>\n",
       "      <td>US4599021023</td>\n",
       "      <td>US</td>\n",
       "    </tr>\n",
       "    <tr>\n",
       "      <th>6</th>\n",
       "      <td>023530 KP Equity</td>\n",
       "      <td>Consumer Discretionary</td>\n",
       "      <td>Broadline Retail</td>\n",
       "      <td>Consumer Discretionary Distrib</td>\n",
       "      <td>KR7023530009</td>\n",
       "      <td>SK</td>\n",
       "    </tr>\n",
       "    <tr>\n",
       "      <th>12</th>\n",
       "      <td>7262 JT Equity</td>\n",
       "      <td>Consumer Discretionary</td>\n",
       "      <td>Automobiles</td>\n",
       "      <td>Automobiles &amp; Components</td>\n",
       "      <td>JP3496600002</td>\n",
       "      <td>JN</td>\n",
       "    </tr>\n",
       "    <tr>\n",
       "      <th>...</th>\n",
       "      <td>...</td>\n",
       "      <td>...</td>\n",
       "      <td>...</td>\n",
       "      <td>...</td>\n",
       "      <td>...</td>\n",
       "      <td>...</td>\n",
       "    </tr>\n",
       "    <tr>\n",
       "      <th>4844</th>\n",
       "      <td>WSM UN Equity</td>\n",
       "      <td>Consumer Discretionary</td>\n",
       "      <td>Specialty Retail</td>\n",
       "      <td>Consumer Discretionary Distrib</td>\n",
       "      <td>US9699041011</td>\n",
       "      <td>US</td>\n",
       "    </tr>\n",
       "    <tr>\n",
       "      <th>4845</th>\n",
       "      <td>LNG UN Equity</td>\n",
       "      <td>Energy</td>\n",
       "      <td>Oil, Gas &amp; Consumable Fuels</td>\n",
       "      <td>Energy</td>\n",
       "      <td>US16411R2085</td>\n",
       "      <td>US</td>\n",
       "    </tr>\n",
       "    <tr>\n",
       "      <th>4847</th>\n",
       "      <td>IOT UN Equity</td>\n",
       "      <td>Information Technology</td>\n",
       "      <td>Software</td>\n",
       "      <td>Software &amp; Services</td>\n",
       "      <td>US79589L1061</td>\n",
       "      <td>US</td>\n",
       "    </tr>\n",
       "    <tr>\n",
       "      <th>4848</th>\n",
       "      <td>CRBG UN Equity</td>\n",
       "      <td>Financials</td>\n",
       "      <td>Financial Services</td>\n",
       "      <td>Financial Services</td>\n",
       "      <td>US21871X1090</td>\n",
       "      <td>US</td>\n",
       "    </tr>\n",
       "    <tr>\n",
       "      <th>4849</th>\n",
       "      <td>7735 JT Equity</td>\n",
       "      <td>Information Technology</td>\n",
       "      <td>Semiconductors &amp; Semiconductor</td>\n",
       "      <td>Semiconductors &amp; Semiconductor</td>\n",
       "      <td>JP3494600004</td>\n",
       "      <td>JN</td>\n",
       "    </tr>\n",
       "  </tbody>\n",
       "</table>\n",
       "<p>2636 rows × 6 columns</p>\n",
       "</div>"
      ],
      "text/plain": [
       "                  ticker             gics_sector  \\\n",
       "0         4091 JT Equity               Materials   \n",
       "2         8960 JT Equity             Real Estate   \n",
       "3     9876544D UN Equity  Consumer Discretionary   \n",
       "6       023530 KP Equity  Consumer Discretionary   \n",
       "12        7262 JT Equity  Consumer Discretionary   \n",
       "...                  ...                     ...   \n",
       "4844       WSM UN Equity  Consumer Discretionary   \n",
       "4845       LNG UN Equity                  Energy   \n",
       "4847       IOT UN Equity  Information Technology   \n",
       "4848      CRBG UN Equity              Financials   \n",
       "4849      7735 JT Equity  Information Technology   \n",
       "\n",
       "                       gics_industry             gics_industry_group  \\\n",
       "0                          Chemicals                       Materials   \n",
       "2                  Diversified REITs   Equity Real Estate Investment   \n",
       "3      Hotels, Restaurants & Leisure               Consumer Services   \n",
       "6                   Broadline Retail  Consumer Discretionary Distrib   \n",
       "12                       Automobiles        Automobiles & Components   \n",
       "...                              ...                             ...   \n",
       "4844                Specialty Retail  Consumer Discretionary Distrib   \n",
       "4845     Oil, Gas & Consumable Fuels                          Energy   \n",
       "4847                        Software             Software & Services   \n",
       "4848              Financial Services              Financial Services   \n",
       "4849  Semiconductors & Semiconductor  Semiconductors & Semiconductor   \n",
       "\n",
       "             _code country  \n",
       "0     JP3711600001      JN  \n",
       "2     JP3045540006      JN  \n",
       "3     US4599021023      US  \n",
       "6     KR7023530009      SK  \n",
       "12    JP3496600002      JN  \n",
       "...            ...     ...  \n",
       "4844  US9699041011      US  \n",
       "4845  US16411R2085      US  \n",
       "4847  US79589L1061      US  \n",
       "4848  US21871X1090      US  \n",
       "4849  JP3494600004      JN  \n",
       "\n",
       "[2636 rows x 6 columns]"
      ]
     },
     "execution_count": 11,
     "metadata": {},
     "output_type": "execute_result"
    }
   ],
   "source": [
    "meta"
   ]
  },
  {
   "cell_type": "code",
   "execution_count": 49,
   "metadata": {},
   "outputs": [],
   "source": [
    "df = pd.merge(members, meta, how='inner', on='ticker').sort_values(['index_date', '_code']).reset_index(drop=True)"
   ]
  },
  {
   "cell_type": "code",
   "execution_count": 50,
   "metadata": {},
   "outputs": [],
   "source": [
    "df['index_date'] = pd.to_datetime(df['index_date'], format=\"%Y-%m-%d\").dt.strftime('%Y-%m-01')"
   ]
  },
  {
   "cell_type": "code",
   "execution_count": 59,
   "metadata": {},
   "outputs": [],
   "source": [
    "result = pd.merge(\n",
    "    df.drop_duplicates('_code', keep='last').reset_index(drop=True),\n",
    "    df.drop_duplicates('_code', keep='first').reset_index(drop=True)[['_code', 'index_date']],\n",
    "    how='left',\n",
    "    on='_code'\n",
    ")"
   ]
  },
  {
   "cell_type": "code",
   "execution_count": 60,
   "metadata": {},
   "outputs": [],
   "source": [
    "result = result[['_code', 'ticker', 'company_name', 'country', 'gics_sector', 'gics_industry_group', 'gics_industry', 'index_date_x', 'index_date_y']]\n",
    "result.columns = ['_code', 'ticker', 'company_name', 'country', 'gics_sector', 'gics_industry_group', 'gics_industry', 'last_include', 'first_include']"
   ]
  },
  {
   "cell_type": "code",
   "execution_count": 61,
   "metadata": {},
   "outputs": [],
   "source": [
    "result['last_include'] = (pd.to_datetime(result['last_include'], format=\"%Y-%m-%d\") + pd.DateOffset(months=3, days=-1)).dt.strftime('%Y-%m-%d')"
   ]
  },
  {
   "cell_type": "code",
   "execution_count": 64,
   "metadata": {},
   "outputs": [
    {
     "ename": "",
     "evalue": "",
     "output_type": "error",
     "traceback": [
      "\u001b[1;31mThe Kernel crashed while executing code in the current cell or a previous cell. \n",
      "\u001b[1;31mPlease review the code in the cell(s) to identify a possible cause of the failure. \n",
      "\u001b[1;31mClick <a href='https://aka.ms/vscodeJupyterKernelCrash'>here</a> for more info. \n",
      "\u001b[1;31mView Jupyter <a href='command:jupyter.viewOutput'>log</a> for further details."
     ]
    }
   ],
   "source": [
    "result.sort_values(['country', 'company_name']).to_csv(Path.cwd().parent / 'data/msci_acwi' / 'meta.csv', index=False)"
   ]
  },
  {
   "cell_type": "code",
   "execution_count": null,
   "metadata": {},
   "outputs": [],
   "source": []
  }
 ],
 "metadata": {
  "kernelspec": {
   "display_name": "deep-value-6X-5X8kJ-py3.10",
   "language": "python",
   "name": "python3"
  },
  "language_info": {
   "codemirror_mode": {
    "name": "ipython",
    "version": 3
   },
   "file_extension": ".py",
   "mimetype": "text/x-python",
   "name": "python",
   "nbconvert_exporter": "python",
   "pygments_lexer": "ipython3",
   "version": "3.10.11"
  }
 },
 "nbformat": 4,
 "nbformat_minor": 2
}
