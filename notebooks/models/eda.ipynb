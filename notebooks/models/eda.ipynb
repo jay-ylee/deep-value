{
 "cells": [
  {
   "cell_type": "code",
   "execution_count": 19,
   "metadata": {},
   "outputs": [],
   "source": [
    "from pathlib import Path\n",
    "import numpy as np\n",
    "import pandas as pd"
   ]
  },
  {
   "cell_type": "code",
   "execution_count": 20,
   "metadata": {},
   "outputs": [],
   "source": [
    "meta = pd.read_csv(Path.cwd() / 'data' / 'meta.csv', parse_dates=['first_include'], date_format='%Y-%m-%d')"
   ]
  },
  {
   "cell_type": "code",
   "execution_count": 21,
   "metadata": {},
   "outputs": [],
   "source": [
    "historical = pd.read_csv(Path.cwd() / 'data' / 'historical_prices_monthly_stat.csv').dropna().sort_values(['_code', '_year', '_month'], ascending=True).reset_index(drop=True)"
   ]
  },
  {
   "cell_type": "code",
   "execution_count": 22,
   "metadata": {},
   "outputs": [],
   "source": [
    "df = pd.merge(historical, meta, how=\"inner\", on=\"_code\")\n",
    "df['ym'] = pd.to_datetime(df[\"_year\"].astype(str) + df[\"_month\"].astype(str).str.rjust(2, \"0\"), format=\"%Y%m\")"
   ]
  },
  {
   "cell_type": "code",
   "execution_count": 23,
   "metadata": {},
   "outputs": [],
   "source": [
    "df = df[df[\"ym\"] >= df[\"first_include\"]].reset_index(drop=True)"
   ]
  },
  {
   "cell_type": "code",
   "execution_count": 24,
   "metadata": {},
   "outputs": [],
   "source": [
    "df = df.dropna().reset_index(drop=True)"
   ]
  },
  {
   "cell_type": "code",
   "execution_count": 25,
   "metadata": {},
   "outputs": [],
   "source": [
    "df = (\n",
    "    pd.concat(\n",
    "        [\n",
    "            df,\n",
    "            df.groupby(\"_code\", as_index=False)\n",
    "            .shift(-1)\n",
    "            .rename(columns={c: \"1mf_\" + c for c in df.columns}),\n",
    "        ],\n",
    "        axis=1,\n",
    "    )\n",
    "    .dropna()\n",
    "    .reset_index(drop=True)\n",
    ")"
   ]
  },
  {
   "cell_type": "code",
   "execution_count": 49,
   "metadata": {},
   "outputs": [],
   "source": [
    "bins = [-np.inf, -0.3, -0.1, -0.01, 0] # [-np.inf, -0.7, -0.6, -0.5, -0.4, -0.3, -0.2, -0.1, -0.05, -0.01, 0]  # [-np.inf, -0.4, -0.1, -0.01, 0] # \n",
    "labels = [f'({bins[i-1]}, {bins[i]}]' for i, _ in enumerate(bins) if i > 0]\n",
    "df['monthly_high_end_rtn_category'] = pd.cut(np.exp(df['monthly_high_end_rtn'])-1, bins=bins, labels=labels).astype(str)"
   ]
  },
  {
   "cell_type": "code",
   "execution_count": 60,
   "metadata": {},
   "outputs": [],
   "source": [
    "bins2 = [-np.inf, 0]\n",
    "labels2 = [f'({bins2[i-1]}, {bins2[i]}]' for i, _ in enumerate(bins2) if i > 0]\n",
    "df['monthly_high_low_rtn_category'] = pd.cut(np.exp(df['monthly_high_low_rtn'])-1, right=True, bins=bins2, labels=labels2).astype(str)"
   ]
  },
  {
   "cell_type": "code",
   "execution_count": 61,
   "metadata": {},
   "outputs": [],
   "source": [
    "ct = pd.crosstab(df['monthly_high_low_rtn_category'], df['monthly_high_end_rtn_category'], df['1mf_monthly_start_high_rtn'], aggfunc='count')"
   ]
  },
  {
   "cell_type": "code",
   "execution_count": 64,
   "metadata": {},
   "outputs": [
    {
     "data": {
      "text/plain": [
       "[0.7, 0.6, 0.5, 0.4, 0.3, 0.2, 0.1, 0.05, 0.01]"
      ]
     },
     "execution_count": 64,
     "metadata": {},
     "output_type": "execute_result"
    }
   ],
   "source": [
    "x = [-0.7, -0.6, -0.5, -0.4, -0.3, -0.2, -0.1, -0.05, -0.01]\n",
    "[-v for v in x]"
   ]
  },
  {
   "cell_type": "code",
   "execution_count": 45,
   "metadata": {},
   "outputs": [
    {
     "data": {
      "text/plain": [
       "0          True\n",
       "1          True\n",
       "2          True\n",
       "3         False\n",
       "4          True\n",
       "          ...  \n",
       "199256    False\n",
       "199257     True\n",
       "199258     True\n",
       "199259    False\n",
       "199260     True\n",
       "Name: monthly_rtn, Length: 199261, dtype: bool"
      ]
     },
     "execution_count": 45,
     "metadata": {},
     "output_type": "execute_result"
    }
   ],
   "source": [
    "df['monthly_rtn'] >= 0."
   ]
  },
  {
   "cell_type": "code",
   "execution_count": 44,
   "metadata": {},
   "outputs": [],
   "source": [
    "if (df['monthly_rtn'] >= 0.).all():\n",
    "    pass"
   ]
  },
  {
   "cell_type": "code",
   "execution_count": 39,
   "metadata": {},
   "outputs": [
    {
     "data": {
      "application/vnd.plotly.v1+json": {
       "config": {
        "plotlyServerURL": "https://plot.ly"
       },
       "data": [
        {
         "colorscale": [
          [
           0,
           "rgb(247,251,255)"
          ],
          [
           0.125,
           "rgb(222,235,247)"
          ],
          [
           0.25,
           "rgb(198,219,239)"
          ],
          [
           0.375,
           "rgb(158,202,225)"
          ],
          [
           0.5,
           "rgb(107,174,214)"
          ],
          [
           0.625,
           "rgb(66,146,198)"
          ],
          [
           0.75,
           "rgb(33,113,181)"
          ],
          [
           0.875,
           "rgb(8,81,156)"
          ],
          [
           1,
           "rgb(8,48,107)"
          ]
         ],
         "type": "heatmap",
         "x": [
          "(-0.01, 0]",
          "(-0.1, -0.01]",
          "(-0.3, -0.1]",
          "(-inf, -0.3]"
         ],
         "y": [
          "[0, 0.01)",
          "[0.01, 0.1)",
          "[0.1, 0.3)",
          "[0.3, inf)"
         ],
         "z": [
          [
           0.041642813122576616,
           0.049917445741819576,
           0.07424465495550403,
           0.1762866098416
          ],
          [
           0.04516100974311862,
           0.05254728322485507,
           0.07476748615287405,
           0.15782901685610765
          ],
          [
           0.0626962522231653,
           0.07104973869583149,
           0.08972619896773584,
           0.14418618041828254
          ],
          [
           0.12357695791974317,
           0.12182250624974306,
           0.12090750244186048,
           0.22232939095266274
          ]
         ]
        }
       ],
       "layout": {
        "template": {
         "data": {
          "bar": [
           {
            "error_x": {
             "color": "#2a3f5f"
            },
            "error_y": {
             "color": "#2a3f5f"
            },
            "marker": {
             "line": {
              "color": "#E5ECF6",
              "width": 0.5
             },
             "pattern": {
              "fillmode": "overlay",
              "size": 10,
              "solidity": 0.2
             }
            },
            "type": "bar"
           }
          ],
          "barpolar": [
           {
            "marker": {
             "line": {
              "color": "#E5ECF6",
              "width": 0.5
             },
             "pattern": {
              "fillmode": "overlay",
              "size": 10,
              "solidity": 0.2
             }
            },
            "type": "barpolar"
           }
          ],
          "carpet": [
           {
            "aaxis": {
             "endlinecolor": "#2a3f5f",
             "gridcolor": "white",
             "linecolor": "white",
             "minorgridcolor": "white",
             "startlinecolor": "#2a3f5f"
            },
            "baxis": {
             "endlinecolor": "#2a3f5f",
             "gridcolor": "white",
             "linecolor": "white",
             "minorgridcolor": "white",
             "startlinecolor": "#2a3f5f"
            },
            "type": "carpet"
           }
          ],
          "choropleth": [
           {
            "colorbar": {
             "outlinewidth": 0,
             "ticks": ""
            },
            "type": "choropleth"
           }
          ],
          "contour": [
           {
            "colorbar": {
             "outlinewidth": 0,
             "ticks": ""
            },
            "colorscale": [
             [
              0,
              "#0d0887"
             ],
             [
              0.1111111111111111,
              "#46039f"
             ],
             [
              0.2222222222222222,
              "#7201a8"
             ],
             [
              0.3333333333333333,
              "#9c179e"
             ],
             [
              0.4444444444444444,
              "#bd3786"
             ],
             [
              0.5555555555555556,
              "#d8576b"
             ],
             [
              0.6666666666666666,
              "#ed7953"
             ],
             [
              0.7777777777777778,
              "#fb9f3a"
             ],
             [
              0.8888888888888888,
              "#fdca26"
             ],
             [
              1,
              "#f0f921"
             ]
            ],
            "type": "contour"
           }
          ],
          "contourcarpet": [
           {
            "colorbar": {
             "outlinewidth": 0,
             "ticks": ""
            },
            "type": "contourcarpet"
           }
          ],
          "heatmap": [
           {
            "colorbar": {
             "outlinewidth": 0,
             "ticks": ""
            },
            "colorscale": [
             [
              0,
              "#0d0887"
             ],
             [
              0.1111111111111111,
              "#46039f"
             ],
             [
              0.2222222222222222,
              "#7201a8"
             ],
             [
              0.3333333333333333,
              "#9c179e"
             ],
             [
              0.4444444444444444,
              "#bd3786"
             ],
             [
              0.5555555555555556,
              "#d8576b"
             ],
             [
              0.6666666666666666,
              "#ed7953"
             ],
             [
              0.7777777777777778,
              "#fb9f3a"
             ],
             [
              0.8888888888888888,
              "#fdca26"
             ],
             [
              1,
              "#f0f921"
             ]
            ],
            "type": "heatmap"
           }
          ],
          "heatmapgl": [
           {
            "colorbar": {
             "outlinewidth": 0,
             "ticks": ""
            },
            "colorscale": [
             [
              0,
              "#0d0887"
             ],
             [
              0.1111111111111111,
              "#46039f"
             ],
             [
              0.2222222222222222,
              "#7201a8"
             ],
             [
              0.3333333333333333,
              "#9c179e"
             ],
             [
              0.4444444444444444,
              "#bd3786"
             ],
             [
              0.5555555555555556,
              "#d8576b"
             ],
             [
              0.6666666666666666,
              "#ed7953"
             ],
             [
              0.7777777777777778,
              "#fb9f3a"
             ],
             [
              0.8888888888888888,
              "#fdca26"
             ],
             [
              1,
              "#f0f921"
             ]
            ],
            "type": "heatmapgl"
           }
          ],
          "histogram": [
           {
            "marker": {
             "pattern": {
              "fillmode": "overlay",
              "size": 10,
              "solidity": 0.2
             }
            },
            "type": "histogram"
           }
          ],
          "histogram2d": [
           {
            "colorbar": {
             "outlinewidth": 0,
             "ticks": ""
            },
            "colorscale": [
             [
              0,
              "#0d0887"
             ],
             [
              0.1111111111111111,
              "#46039f"
             ],
             [
              0.2222222222222222,
              "#7201a8"
             ],
             [
              0.3333333333333333,
              "#9c179e"
             ],
             [
              0.4444444444444444,
              "#bd3786"
             ],
             [
              0.5555555555555556,
              "#d8576b"
             ],
             [
              0.6666666666666666,
              "#ed7953"
             ],
             [
              0.7777777777777778,
              "#fb9f3a"
             ],
             [
              0.8888888888888888,
              "#fdca26"
             ],
             [
              1,
              "#f0f921"
             ]
            ],
            "type": "histogram2d"
           }
          ],
          "histogram2dcontour": [
           {
            "colorbar": {
             "outlinewidth": 0,
             "ticks": ""
            },
            "colorscale": [
             [
              0,
              "#0d0887"
             ],
             [
              0.1111111111111111,
              "#46039f"
             ],
             [
              0.2222222222222222,
              "#7201a8"
             ],
             [
              0.3333333333333333,
              "#9c179e"
             ],
             [
              0.4444444444444444,
              "#bd3786"
             ],
             [
              0.5555555555555556,
              "#d8576b"
             ],
             [
              0.6666666666666666,
              "#ed7953"
             ],
             [
              0.7777777777777778,
              "#fb9f3a"
             ],
             [
              0.8888888888888888,
              "#fdca26"
             ],
             [
              1,
              "#f0f921"
             ]
            ],
            "type": "histogram2dcontour"
           }
          ],
          "mesh3d": [
           {
            "colorbar": {
             "outlinewidth": 0,
             "ticks": ""
            },
            "type": "mesh3d"
           }
          ],
          "parcoords": [
           {
            "line": {
             "colorbar": {
              "outlinewidth": 0,
              "ticks": ""
             }
            },
            "type": "parcoords"
           }
          ],
          "pie": [
           {
            "automargin": true,
            "type": "pie"
           }
          ],
          "scatter": [
           {
            "fillpattern": {
             "fillmode": "overlay",
             "size": 10,
             "solidity": 0.2
            },
            "type": "scatter"
           }
          ],
          "scatter3d": [
           {
            "line": {
             "colorbar": {
              "outlinewidth": 0,
              "ticks": ""
             }
            },
            "marker": {
             "colorbar": {
              "outlinewidth": 0,
              "ticks": ""
             }
            },
            "type": "scatter3d"
           }
          ],
          "scattercarpet": [
           {
            "marker": {
             "colorbar": {
              "outlinewidth": 0,
              "ticks": ""
             }
            },
            "type": "scattercarpet"
           }
          ],
          "scattergeo": [
           {
            "marker": {
             "colorbar": {
              "outlinewidth": 0,
              "ticks": ""
             }
            },
            "type": "scattergeo"
           }
          ],
          "scattergl": [
           {
            "marker": {
             "colorbar": {
              "outlinewidth": 0,
              "ticks": ""
             }
            },
            "type": "scattergl"
           }
          ],
          "scattermapbox": [
           {
            "marker": {
             "colorbar": {
              "outlinewidth": 0,
              "ticks": ""
             }
            },
            "type": "scattermapbox"
           }
          ],
          "scatterpolar": [
           {
            "marker": {
             "colorbar": {
              "outlinewidth": 0,
              "ticks": ""
             }
            },
            "type": "scatterpolar"
           }
          ],
          "scatterpolargl": [
           {
            "marker": {
             "colorbar": {
              "outlinewidth": 0,
              "ticks": ""
             }
            },
            "type": "scatterpolargl"
           }
          ],
          "scatterternary": [
           {
            "marker": {
             "colorbar": {
              "outlinewidth": 0,
              "ticks": ""
             }
            },
            "type": "scatterternary"
           }
          ],
          "surface": [
           {
            "colorbar": {
             "outlinewidth": 0,
             "ticks": ""
            },
            "colorscale": [
             [
              0,
              "#0d0887"
             ],
             [
              0.1111111111111111,
              "#46039f"
             ],
             [
              0.2222222222222222,
              "#7201a8"
             ],
             [
              0.3333333333333333,
              "#9c179e"
             ],
             [
              0.4444444444444444,
              "#bd3786"
             ],
             [
              0.5555555555555556,
              "#d8576b"
             ],
             [
              0.6666666666666666,
              "#ed7953"
             ],
             [
              0.7777777777777778,
              "#fb9f3a"
             ],
             [
              0.8888888888888888,
              "#fdca26"
             ],
             [
              1,
              "#f0f921"
             ]
            ],
            "type": "surface"
           }
          ],
          "table": [
           {
            "cells": {
             "fill": {
              "color": "#EBF0F8"
             },
             "line": {
              "color": "white"
             }
            },
            "header": {
             "fill": {
              "color": "#C8D4E3"
             },
             "line": {
              "color": "white"
             }
            },
            "type": "table"
           }
          ]
         },
         "layout": {
          "annotationdefaults": {
           "arrowcolor": "#2a3f5f",
           "arrowhead": 0,
           "arrowwidth": 1
          },
          "autotypenumbers": "strict",
          "coloraxis": {
           "colorbar": {
            "outlinewidth": 0,
            "ticks": ""
           }
          },
          "colorscale": {
           "diverging": [
            [
             0,
             "#8e0152"
            ],
            [
             0.1,
             "#c51b7d"
            ],
            [
             0.2,
             "#de77ae"
            ],
            [
             0.3,
             "#f1b6da"
            ],
            [
             0.4,
             "#fde0ef"
            ],
            [
             0.5,
             "#f7f7f7"
            ],
            [
             0.6,
             "#e6f5d0"
            ],
            [
             0.7,
             "#b8e186"
            ],
            [
             0.8,
             "#7fbc41"
            ],
            [
             0.9,
             "#4d9221"
            ],
            [
             1,
             "#276419"
            ]
           ],
           "sequential": [
            [
             0,
             "#0d0887"
            ],
            [
             0.1111111111111111,
             "#46039f"
            ],
            [
             0.2222222222222222,
             "#7201a8"
            ],
            [
             0.3333333333333333,
             "#9c179e"
            ],
            [
             0.4444444444444444,
             "#bd3786"
            ],
            [
             0.5555555555555556,
             "#d8576b"
            ],
            [
             0.6666666666666666,
             "#ed7953"
            ],
            [
             0.7777777777777778,
             "#fb9f3a"
            ],
            [
             0.8888888888888888,
             "#fdca26"
            ],
            [
             1,
             "#f0f921"
            ]
           ],
           "sequentialminus": [
            [
             0,
             "#0d0887"
            ],
            [
             0.1111111111111111,
             "#46039f"
            ],
            [
             0.2222222222222222,
             "#7201a8"
            ],
            [
             0.3333333333333333,
             "#9c179e"
            ],
            [
             0.4444444444444444,
             "#bd3786"
            ],
            [
             0.5555555555555556,
             "#d8576b"
            ],
            [
             0.6666666666666666,
             "#ed7953"
            ],
            [
             0.7777777777777778,
             "#fb9f3a"
            ],
            [
             0.8888888888888888,
             "#fdca26"
            ],
            [
             1,
             "#f0f921"
            ]
           ]
          },
          "colorway": [
           "#636efa",
           "#EF553B",
           "#00cc96",
           "#ab63fa",
           "#FFA15A",
           "#19d3f3",
           "#FF6692",
           "#B6E880",
           "#FF97FF",
           "#FECB52"
          ],
          "font": {
           "color": "#2a3f5f"
          },
          "geo": {
           "bgcolor": "white",
           "lakecolor": "white",
           "landcolor": "#E5ECF6",
           "showlakes": true,
           "showland": true,
           "subunitcolor": "white"
          },
          "hoverlabel": {
           "align": "left"
          },
          "hovermode": "closest",
          "mapbox": {
           "style": "light"
          },
          "paper_bgcolor": "white",
          "plot_bgcolor": "#E5ECF6",
          "polar": {
           "angularaxis": {
            "gridcolor": "white",
            "linecolor": "white",
            "ticks": ""
           },
           "bgcolor": "#E5ECF6",
           "radialaxis": {
            "gridcolor": "white",
            "linecolor": "white",
            "ticks": ""
           }
          },
          "scene": {
           "xaxis": {
            "backgroundcolor": "#E5ECF6",
            "gridcolor": "white",
            "gridwidth": 2,
            "linecolor": "white",
            "showbackground": true,
            "ticks": "",
            "zerolinecolor": "white"
           },
           "yaxis": {
            "backgroundcolor": "#E5ECF6",
            "gridcolor": "white",
            "gridwidth": 2,
            "linecolor": "white",
            "showbackground": true,
            "ticks": "",
            "zerolinecolor": "white"
           },
           "zaxis": {
            "backgroundcolor": "#E5ECF6",
            "gridcolor": "white",
            "gridwidth": 2,
            "linecolor": "white",
            "showbackground": true,
            "ticks": "",
            "zerolinecolor": "white"
           }
          },
          "shapedefaults": {
           "line": {
            "color": "#2a3f5f"
           }
          },
          "ternary": {
           "aaxis": {
            "gridcolor": "white",
            "linecolor": "white",
            "ticks": ""
           },
           "baxis": {
            "gridcolor": "white",
            "linecolor": "white",
            "ticks": ""
           },
           "bgcolor": "#E5ECF6",
           "caxis": {
            "gridcolor": "white",
            "linecolor": "white",
            "ticks": ""
           }
          },
          "title": {
           "x": 0.05
          },
          "xaxis": {
           "automargin": true,
           "gridcolor": "white",
           "linecolor": "white",
           "ticks": "",
           "title": {
            "standoff": 15
           },
           "zerolinecolor": "white",
           "zerolinewidth": 2
          },
          "yaxis": {
           "automargin": true,
           "gridcolor": "white",
           "linecolor": "white",
           "ticks": "",
           "title": {
            "standoff": 15
           },
           "zerolinecolor": "white",
           "zerolinewidth": 2
          }
         }
        }
       }
      }
     },
     "metadata": {},
     "output_type": "display_data"
    }
   ],
   "source": [
    "import plotly.graph_objects as go\n",
    "\n",
    "fig = go.Figure(data=go.Heatmap(\n",
    "                   z=ct.values,\n",
    "                   x=ct.columns,\n",
    "                   y=ct.index,\n",
    "                   colorscale='Blues'))\n",
    "fig.show()"
   ]
  },
  {
   "cell_type": "code",
   "execution_count": 29,
   "metadata": {},
   "outputs": [
    {
     "data": {
      "text/html": [
       "<div>\n",
       "<style scoped>\n",
       "    .dataframe tbody tr th:only-of-type {\n",
       "        vertical-align: middle;\n",
       "    }\n",
       "\n",
       "    .dataframe tbody tr th {\n",
       "        vertical-align: top;\n",
       "    }\n",
       "\n",
       "    .dataframe thead th {\n",
       "        text-align: right;\n",
       "    }\n",
       "</style>\n",
       "<table border=\"1\" class=\"dataframe\">\n",
       "  <thead>\n",
       "    <tr style=\"text-align: right;\">\n",
       "      <th></th>\n",
       "      <th>monthly_start_high_rtn_category</th>\n",
       "      <th>monthly_high_end_rtn_category</th>\n",
       "      <th>1mf_monthly_start_high_rtn</th>\n",
       "    </tr>\n",
       "  </thead>\n",
       "  <tbody>\n",
       "    <tr>\n",
       "      <th>0</th>\n",
       "      <td>[0, 0.01)</td>\n",
       "      <td>(-0.01, 0]</td>\n",
       "      <td>0.041643</td>\n",
       "    </tr>\n",
       "    <tr>\n",
       "      <th>1</th>\n",
       "      <td>[0, 0.01)</td>\n",
       "      <td>(-0.1, -0.01]</td>\n",
       "      <td>0.049917</td>\n",
       "    </tr>\n",
       "    <tr>\n",
       "      <th>2</th>\n",
       "      <td>[0, 0.01)</td>\n",
       "      <td>(-0.3, -0.1]</td>\n",
       "      <td>0.074245</td>\n",
       "    </tr>\n",
       "    <tr>\n",
       "      <th>3</th>\n",
       "      <td>[0, 0.01)</td>\n",
       "      <td>(-inf, -0.3]</td>\n",
       "      <td>0.176287</td>\n",
       "    </tr>\n",
       "    <tr>\n",
       "      <th>4</th>\n",
       "      <td>[0.01, 0.1)</td>\n",
       "      <td>(-0.01, 0]</td>\n",
       "      <td>0.045161</td>\n",
       "    </tr>\n",
       "    <tr>\n",
       "      <th>5</th>\n",
       "      <td>[0.01, 0.1)</td>\n",
       "      <td>(-0.1, -0.01]</td>\n",
       "      <td>0.052547</td>\n",
       "    </tr>\n",
       "    <tr>\n",
       "      <th>6</th>\n",
       "      <td>[0.01, 0.1)</td>\n",
       "      <td>(-0.3, -0.1]</td>\n",
       "      <td>0.074767</td>\n",
       "    </tr>\n",
       "    <tr>\n",
       "      <th>7</th>\n",
       "      <td>[0.01, 0.1)</td>\n",
       "      <td>(-inf, -0.3]</td>\n",
       "      <td>0.157829</td>\n",
       "    </tr>\n",
       "    <tr>\n",
       "      <th>8</th>\n",
       "      <td>[0.1, 0.3)</td>\n",
       "      <td>(-0.01, 0]</td>\n",
       "      <td>0.062696</td>\n",
       "    </tr>\n",
       "    <tr>\n",
       "      <th>9</th>\n",
       "      <td>[0.1, 0.3)</td>\n",
       "      <td>(-0.1, -0.01]</td>\n",
       "      <td>0.071050</td>\n",
       "    </tr>\n",
       "    <tr>\n",
       "      <th>10</th>\n",
       "      <td>[0.1, 0.3)</td>\n",
       "      <td>(-0.3, -0.1]</td>\n",
       "      <td>0.089726</td>\n",
       "    </tr>\n",
       "    <tr>\n",
       "      <th>11</th>\n",
       "      <td>[0.1, 0.3)</td>\n",
       "      <td>(-inf, -0.3]</td>\n",
       "      <td>0.144186</td>\n",
       "    </tr>\n",
       "    <tr>\n",
       "      <th>12</th>\n",
       "      <td>[0.3, inf)</td>\n",
       "      <td>(-0.01, 0]</td>\n",
       "      <td>0.123577</td>\n",
       "    </tr>\n",
       "    <tr>\n",
       "      <th>13</th>\n",
       "      <td>[0.3, inf)</td>\n",
       "      <td>(-0.1, -0.01]</td>\n",
       "      <td>0.121823</td>\n",
       "    </tr>\n",
       "    <tr>\n",
       "      <th>14</th>\n",
       "      <td>[0.3, inf)</td>\n",
       "      <td>(-0.3, -0.1]</td>\n",
       "      <td>0.120908</td>\n",
       "    </tr>\n",
       "    <tr>\n",
       "      <th>15</th>\n",
       "      <td>[0.3, inf)</td>\n",
       "      <td>(-inf, -0.3]</td>\n",
       "      <td>0.222329</td>\n",
       "    </tr>\n",
       "  </tbody>\n",
       "</table>\n",
       "</div>"
      ],
      "text/plain": [
       "   monthly_start_high_rtn_category monthly_high_end_rtn_category  \\\n",
       "0                        [0, 0.01)                    (-0.01, 0]   \n",
       "1                        [0, 0.01)                 (-0.1, -0.01]   \n",
       "2                        [0, 0.01)                  (-0.3, -0.1]   \n",
       "3                        [0, 0.01)                  (-inf, -0.3]   \n",
       "4                      [0.01, 0.1)                    (-0.01, 0]   \n",
       "5                      [0.01, 0.1)                 (-0.1, -0.01]   \n",
       "6                      [0.01, 0.1)                  (-0.3, -0.1]   \n",
       "7                      [0.01, 0.1)                  (-inf, -0.3]   \n",
       "8                       [0.1, 0.3)                    (-0.01, 0]   \n",
       "9                       [0.1, 0.3)                 (-0.1, -0.01]   \n",
       "10                      [0.1, 0.3)                  (-0.3, -0.1]   \n",
       "11                      [0.1, 0.3)                  (-inf, -0.3]   \n",
       "12                      [0.3, inf)                    (-0.01, 0]   \n",
       "13                      [0.3, inf)                 (-0.1, -0.01]   \n",
       "14                      [0.3, inf)                  (-0.3, -0.1]   \n",
       "15                      [0.3, inf)                  (-inf, -0.3]   \n",
       "\n",
       "    1mf_monthly_start_high_rtn  \n",
       "0                     0.041643  \n",
       "1                     0.049917  \n",
       "2                     0.074245  \n",
       "3                     0.176287  \n",
       "4                     0.045161  \n",
       "5                     0.052547  \n",
       "6                     0.074767  \n",
       "7                     0.157829  \n",
       "8                     0.062696  \n",
       "9                     0.071050  \n",
       "10                    0.089726  \n",
       "11                    0.144186  \n",
       "12                    0.123577  \n",
       "13                    0.121823  \n",
       "14                    0.120908  \n",
       "15                    0.222329  "
      ]
     },
     "execution_count": 29,
     "metadata": {},
     "output_type": "execute_result"
    }
   ],
   "source": [
    "df.groupby(['monthly_start_high_rtn_category', 'monthly_high_end_rtn_category'], as_index=False)['1mf_monthly_start_high_rtn'].mean()"
   ]
  },
  {
   "cell_type": "code",
   "execution_count": null,
   "metadata": {},
   "outputs": [],
   "source": [
    "df.groupby(\"monthly_high_end_rtn_category\")[\"1mf_monthly_rtn\"].mean()"
   ]
  },
  {
   "cell_type": "code",
   "execution_count": null,
   "metadata": {},
   "outputs": [],
   "source": [
    "df['monthly_rtn_12m_std'] = df.groupby('_code')['monthly_rtn'].rolling(12, min_periods=3).std().reset_index(drop=True)"
   ]
  },
  {
   "cell_type": "code",
   "execution_count": null,
   "metadata": {},
   "outputs": [],
   "source": [
    "df['monthly_rtn_12m_avg'] = df.groupby('_code')['monthly_rtn'].rolling(12, min_periods=3).mean().reset_index(drop=True)"
   ]
  },
  {
   "cell_type": "code",
   "execution_count": null,
   "metadata": {},
   "outputs": [],
   "source": [
    "df = df.dropna().reset_index(drop=True)"
   ]
  },
  {
   "cell_type": "code",
   "execution_count": null,
   "metadata": {},
   "outputs": [],
   "source": [
    "df['monthly_high_end_rtn_sigma_category'] = 'normal'"
   ]
  },
  {
   "cell_type": "code",
   "execution_count": null,
   "metadata": {},
   "outputs": [],
   "source": [
    "df.loc[(df['monthly_rtn_12m_avg'] - df['monthly_rtn_12m_std']) > df['monthly_high_end_rtn'], 'monthly_high_end_rtn_sigma_category'] = '1sigma'"
   ]
  },
  {
   "cell_type": "code",
   "execution_count": null,
   "metadata": {},
   "outputs": [],
   "source": [
    "# df.loc[(df['monthly_rtn_12m_avg'] - 2 * df['monthly_rtn_12m_std']) > df['monthly_high_end_rtn'], 'monthly_high_end_rtn_sigma_category'] = '2sigma'"
   ]
  },
  {
   "cell_type": "code",
   "execution_count": null,
   "metadata": {},
   "outputs": [],
   "source": [
    "# df.loc[(df['monthly_rtn_12m_avg'] - 3 * df['monthly_rtn_12m_std']) > df['monthly_high_end_rtn'], 'monthly_high_end_rtn_sigma_category'] = '3sigma'"
   ]
  },
  {
   "cell_type": "code",
   "execution_count": null,
   "metadata": {},
   "outputs": [],
   "source": [
    "df['sigma_coef'] =  (df['monthly_rtn_12m_avg'] - df['monthly_high_end_rtn']) / df['monthly_rtn_12m_std']"
   ]
  },
  {
   "cell_type": "code",
   "execution_count": null,
   "metadata": {},
   "outputs": [],
   "source": [
    "df.dropna(inplace=True)"
   ]
  },
  {
   "cell_type": "code",
   "execution_count": null,
   "metadata": {},
   "outputs": [],
   "source": [
    "df.groupby('monthly_high_end_rtn_category')['1mf_monthly_start_high_rtn'].mean()"
   ]
  },
  {
   "cell_type": "code",
   "execution_count": null,
   "metadata": {},
   "outputs": [],
   "source": [
    "df.groupby('monthly_high_end_rtn_sigma_category')['1mf_monthly_start_high_rtn'].count()"
   ]
  },
  {
   "cell_type": "code",
   "execution_count": null,
   "metadata": {},
   "outputs": [],
   "source": [
    "pd.crosstab(df['monthly_high_end_rtn_category'], df['monthly_high_end_rtn_sigma_category'])[['normal', '1sigma']]"
   ]
  },
  {
   "cell_type": "code",
   "execution_count": null,
   "metadata": {},
   "outputs": [],
   "source": [
    "df.groupby(['monthly_high_end_rtn_sigma_category', 'monthly_high_end_rtn_category'], as_index=False)['1mf_monthly_start_high_rtn'].agg(['count', 'mean', 'median', 'std'])"
   ]
  },
  {
   "cell_type": "code",
   "execution_count": null,
   "metadata": {},
   "outputs": [],
   "source": [
    "# import plotly.express as px\n",
    "\n",
    "# fig = px.scatter(df, \n",
    "#               x=\"sigma_coef\", \n",
    "#               y=\"monthly_high_end_rtn\", \n",
    "# )\n",
    "# fig.update_traces(marker={'size': 2})\n",
    "\n",
    "# fig.show()"
   ]
  },
  {
   "cell_type": "code",
   "execution_count": null,
   "metadata": {},
   "outputs": [],
   "source": [
    "# bins = [-np.inf, -0.4, -0.1, -0.01, 0] # [-np.inf, -0.7, -0.6, -0.5, -0.4, -0.3, -0.2, -0.1, -0.05, -0.01, 0] \n",
    "# labels = [f'({bins[i-1]}, {bins[i]}]' for i, _ in enumerate(bins) if i > 0]\n",
    "# df['monthly_high_end_rtn_category'] = pd.cut(df['monthly_high_end_rtn'], bins=bins, labels=labels).astype(str)\n",
    "# df['before_monthly_high_end_rtn'] = df.groupby('_code', as_index=False)['monthly_high_end_rtn'].shift(1)\n",
    "# df['before_monthly_high_end_rtn_category'] = df.groupby('_code', as_index=False)['monthly_high_end_rtn_category'].shift(1)"
   ]
  },
  {
   "cell_type": "code",
   "execution_count": null,
   "metadata": {},
   "outputs": [],
   "source": [
    "# df.dropna(inplace=True)"
   ]
  },
  {
   "cell_type": "code",
   "execution_count": null,
   "metadata": {},
   "outputs": [],
   "source": [
    "# import plotly.graph_objects as go\n",
    "\n",
    "# fig = go.Figure()\n",
    "# fig.add_trace(go.Box(\n",
    "#     y = df[df['before_monthly_high_end_rtn_category'] == labels[0]]['monthly_start_high_rtn'],\n",
    "#     name=labels[0],\n",
    "#     boxmean='sd',\n",
    "#     boxpoints=False\n",
    "# ))\n",
    "# fig.add_trace(go.Box(\n",
    "#     y = df[df['before_monthly_high_end_rtn_category'] == labels[1]]['monthly_start_high_rtn'],\n",
    "#     name=labels[1],\n",
    "#     boxmean='sd',\n",
    "#     boxpoints=False\n",
    "# ))\n",
    "# fig.add_trace(go.Box(\n",
    "#     y = df[df['before_monthly_high_end_rtn_category'] == labels[2]]['monthly_start_high_rtn'],\n",
    "#     name=labels[2],\n",
    "#     boxmean='sd',\n",
    "#     boxpoints=False\n",
    "# ))\n",
    "# fig.add_trace(go.Box(\n",
    "#     y = df[df['before_monthly_high_end_rtn_category'] == labels[3]]['monthly_start_high_rtn'],\n",
    "#     name=labels[3],\n",
    "#     boxmean='sd',\n",
    "#     boxpoints=False\n",
    "# ))\n",
    "# fig.show()"
   ]
  },
  {
   "cell_type": "code",
   "execution_count": null,
   "metadata": {},
   "outputs": [],
   "source": [
    "total_grp = df.groupby(['ym'], as_index=False)['monthly_start_high_rtn'].agg(['count', 'mean', 'std', 'median'])\n",
    "total_grp['before_monthly_high_end_rtn_category'] = 'Total'\n",
    "bins_grp = df.groupby(['before_monthly_high_end_rtn_category', 'ym'], as_index=False)['monthly_start_high_rtn'].agg(['count', 'mean', 'std', 'median'])\n",
    "grp = pd.concat([total_grp, bins_grp]).reset_index(drop=True)"
   ]
  },
  {
   "cell_type": "code",
   "execution_count": null,
   "metadata": {},
   "outputs": [],
   "source": [
    "grp"
   ]
  },
  {
   "cell_type": "code",
   "execution_count": null,
   "metadata": {},
   "outputs": [],
   "source": [
    "import plotly.express as px\n",
    "\n",
    "fig = px.line(grp, \n",
    "              x=\"ym\", \n",
    "              y=\"mean\", \n",
    "              color=\"before_monthly_high_end_rtn_category\",\n",
    "              markers=True, \n",
    "              hover_name=\"before_monthly_high_end_rtn_category\",\n",
    "              hover_data={'before_monthly_high_end_rtn_category': False,\n",
    "                          'ym': False,\n",
    "                          'count': True,\n",
    "                          'mean': ':.4f',\n",
    "                          'mean': ':.4f',\n",
    "                          'std': ':.4f'})\n",
    "fig.update_layout(hovermode=\"x unified\")\n",
    "\n",
    "fig.show()"
   ]
  },
  {
   "cell_type": "code",
   "execution_count": null,
   "metadata": {},
   "outputs": [],
   "source": [
    "import plotly.graph_objects as go\n",
    "\n",
    "fig = go.Figure()\n",
    "fig.add_trace(go.Scatter(\n",
    "    x = df.groupby(['ym'], as_index=False)['monthly_start_high_rtn'].mean()['ym'],\n",
    "    y = df.groupby(['ym'], as_index=False)['monthly_start_high_rtn'].mean()['monthly_start_high_rtn'],))\n",
    "fig.add_trace(go.Scatter(\n",
    "    x = df[df['before_monthly_high_end_rtn_category'] == '(-0.01, 0]'].groupby(['ym'], as_index=False)['monthly_start_high_rtn'].mean()['ym'],\n",
    "    y = df[df['before_monthly_high_end_rtn_category'] == '(-0.01, 0]'].groupby(['ym'], as_index=False)['monthly_start_high_rtn'].mean()['monthly_start_high_rtn'],))\n",
    "fig.add_trace(go.Scatter(\n",
    "    x = df[df['before_monthly_high_end_rtn_category'] == '(-0.1, -0.01]'].groupby(['ym'], as_index=False)['monthly_start_high_rtn'].mean()['ym'],\n",
    "    y = df[df['before_monthly_high_end_rtn_category'] == '(-0.1, -0.01]'].groupby(['ym'], as_index=False)['monthly_start_high_rtn'].mean()['monthly_start_high_rtn'],))\n",
    "fig.add_trace(go.Scatter(\n",
    "    x = df[df['before_monthly_high_end_rtn_category'] == '(-0.4, -0.1]'].groupby(['ym'], as_index=False)['monthly_start_high_rtn'].mean()['ym'],\n",
    "    y = df[df['before_monthly_high_end_rtn_category'] == '(-0.4, -0.1]'].groupby(['ym'], as_index=False)['monthly_start_high_rtn'].mean()['monthly_start_high_rtn'],))\n",
    "fig.add_trace(go.Scatter(\n",
    "    x = df[df['before_monthly_high_end_rtn_category'] == '(-inf, -0.4]'].groupby(['ym'], as_index=False)['monthly_start_high_rtn'].mean()['ym'],\n",
    "    y = df[df['before_monthly_high_end_rtn_category'] == '(-inf, -0.4]'].groupby(['ym'], as_index=False)['monthly_start_high_rtn'].mean()['monthly_start_high_rtn'],))\n",
    "fig.show()"
   ]
  },
  {
   "cell_type": "code",
   "execution_count": null,
   "metadata": {},
   "outputs": [],
   "source": [
    "df.groupby(['before_monthly_high_end_rtn_category', 'ym'], as_index=False)[['monthly_start_high_rtn', 'monthly_rtn']].agg('mean')"
   ]
  },
  {
   "cell_type": "code",
   "execution_count": null,
   "metadata": {},
   "outputs": [],
   "source": [
    "labels"
   ]
  },
  {
   "cell_type": "code",
   "execution_count": null,
   "metadata": {},
   "outputs": [],
   "source": [
    "df.columns"
   ]
  },
  {
   "cell_type": "code",
   "execution_count": null,
   "metadata": {},
   "outputs": [],
   "source": [
    "df_count = df.groupby(\"before_monthly_high_end_rtn_category\")[\n",
    "    \"monthly_start_high_rtn\"\n",
    "].count().reset_index(drop=False)"
   ]
  },
  {
   "cell_type": "code",
   "execution_count": null,
   "metadata": {},
   "outputs": [],
   "source": [
    "df[df['before_monthly_high_end_rtn_category'] == '(-inf, -0.4]'][['before_monthly_high_end_rtn', 'monthly_start_high_rtn']].corr()"
   ]
  },
  {
   "cell_type": "code",
   "execution_count": null,
   "metadata": {},
   "outputs": [],
   "source": [
    "import plotly.figure_factory as ff\n",
    "\n",
    "hist_data = [\n",
    "    df[df['before_monthly_high_end_rtn_category'] == '(-inf, -0.4]']['monthly_start_high_rtn'], \n",
    "    df[df['before_monthly_high_end_rtn_category'] == '(-0.4, -0.1]']['monthly_start_high_rtn'], \n",
    "    df[df['before_monthly_high_end_rtn_category'] == '(-0.1, -0.01]']['monthly_start_high_rtn'],\n",
    "    df[df['before_monthly_high_end_rtn_category'] == '(-0.01, 0]']['monthly_start_high_rtn'], \n",
    "]\n",
    "\n",
    "group_labels = [\n",
    "    '(-inf, -0.4]', \n",
    "    '(-0.4, -0.1]', \n",
    "    '(-0.1, -0.01]',\n",
    "    '(-0.01, 0]', \n",
    "]\n",
    "\n",
    "colors = ['#333F44', '#37AA9C', '#94F3E4', 'slategray']\n",
    "\n",
    "# Create distplot with curve_type set to 'normal'\n",
    "fig = ff.create_distplot(hist_data, group_labels, show_hist=False, colors=colors, show_rug=False, histnorm='probability')\n",
    "\n",
    "# Add title\n",
    "fig.update_xaxes()\n",
    "fig.update_layout(title_text='Curve and Rug Plot', width=800)\n",
    "fig.show()"
   ]
  },
  {
   "cell_type": "code",
   "execution_count": null,
   "metadata": {},
   "outputs": [],
   "source": []
  }
 ],
 "metadata": {
  "kernelspec": {
   "display_name": "deep-value-6X-5X8kJ-py3.10",
   "language": "python",
   "name": "python3"
  },
  "language_info": {
   "codemirror_mode": {
    "name": "ipython",
    "version": 3
   },
   "file_extension": ".py",
   "mimetype": "text/x-python",
   "name": "python",
   "nbconvert_exporter": "python",
   "pygments_lexer": "ipython3",
   "version": "3.10.11"
  }
 },
 "nbformat": 4,
 "nbformat_minor": 2
}
