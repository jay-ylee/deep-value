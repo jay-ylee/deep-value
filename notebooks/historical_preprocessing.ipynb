{
 "cells": [
  {
   "cell_type": "code",
   "execution_count": 1,
   "metadata": {},
   "outputs": [],
   "source": [
    "from pathlib import Path\n",
    "import numpy as np\n",
    "import pandas as pd\n",
    "from tqdm import tqdm"
   ]
  },
  {
   "cell_type": "code",
   "execution_count": 2,
   "metadata": {},
   "outputs": [],
   "source": [
    "dates = pd.read_csv(Path.cwd().parent / 'data/msci_acwi/historical' / 'mxwd_members(us,ch,jn,sk)_dates.csv')\n"
   ]
  },
  {
   "cell_type": "code",
   "execution_count": 3,
   "metadata": {},
   "outputs": [],
   "source": [
    "pers = pd.read_csv(Path.cwd().parent / 'data/msci_acwi/historical' / 'mxwd_members(us,ch,jn,sk)_pers.csv')"
   ]
  },
  {
   "cell_type": "code",
   "execution_count": 4,
   "metadata": {},
   "outputs": [],
   "source": [
    "df = pd.DataFrame(np.nan, index = range(2535*2589), columns=['_date', '_code', '_value'])\n",
    "df['_code'] = 'a'\n",
    "df['_date'] = 'a'\n",
    "cols = list(dates.columns)"
   ]
  },
  {
   "cell_type": "code",
   "execution_count": 5,
   "metadata": {},
   "outputs": [
    {
     "name": "stderr",
     "output_type": "stream",
     "text": [
      "100%|██████████| 2589/2589 [06:02<00:00,  7.14it/s]\n"
     ]
    }
   ],
   "source": [
    "idx = 0\n",
    "for i in tqdm(cols):\n",
    "    df.iloc[idx:idx+2535, 0] = dates.loc[:, i]\n",
    "    df.iloc[idx:idx+2535, 1] = i\n",
    "    df.iloc[idx:idx+2535, 2] = pers.loc[:, i]\n",
    "    dates.drop([i], axis=1, inplace=True)\n",
    "    pers.drop([i], axis=1, inplace=True)\n",
    "    idx += 2535"
   ]
  },
  {
   "cell_type": "code",
   "execution_count": 6,
   "metadata": {},
   "outputs": [],
   "source": [
    "df.dropna(inplace=True)"
   ]
  },
  {
   "cell_type": "code",
   "execution_count": 7,
   "metadata": {},
   "outputs": [],
   "source": [
    "df['_date'] = df['_date'].str.pad(10, 'left', '0')"
   ]
  },
  {
   "cell_type": "code",
   "execution_count": 8,
   "metadata": {},
   "outputs": [],
   "source": [
    "df['_date'] = pd.to_datetime(df['_date'], format=\"%m/%d/%Y\").dt.strftime('%Y-%m-%d')"
   ]
  },
  {
   "cell_type": "code",
   "execution_count": 9,
   "metadata": {},
   "outputs": [],
   "source": [
    "df.to_csv(Path.cwd().parent / 'data/msci_acwi/historical' / 'historical_pers.csv', index=False)"
   ]
  },
  {
   "cell_type": "code",
   "execution_count": null,
   "metadata": {},
   "outputs": [],
   "source": []
  }
 ],
 "metadata": {
  "kernelspec": {
   "display_name": "deep-value-6X-5X8kJ-py3.10",
   "language": "python",
   "name": "python3"
  },
  "language_info": {
   "codemirror_mode": {
    "name": "ipython",
    "version": 3
   },
   "file_extension": ".py",
   "mimetype": "text/x-python",
   "name": "python",
   "nbconvert_exporter": "python",
   "pygments_lexer": "ipython3",
   "version": "3.10.11"
  }
 },
 "nbformat": 4,
 "nbformat_minor": 2
}
