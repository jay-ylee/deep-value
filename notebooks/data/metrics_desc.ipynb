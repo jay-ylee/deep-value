{
 "cells": [
  {
   "cell_type": "code",
   "execution_count": 1,
   "metadata": {},
   "outputs": [],
   "source": [
    "from pathlib import Path\n",
    "import numpy as np\n",
    "import pandas as pd"
   ]
  },
  {
   "cell_type": "code",
   "execution_count": 4,
   "metadata": {},
   "outputs": [],
   "source": [
    "metrics_desc = pd.read_csv(Path.cwd() / 'data' / 'metrics_desc.csv', encoding='cp949')"
   ]
  },
  {
   "cell_type": "code",
   "execution_count": 11,
   "metadata": {},
   "outputs": [],
   "source": [
    "eng = [{'value': v[0], 'label': v[1]} for v in metrics_desc.values]\n",
    "kor = [{'value': v[0], 'label': v[2]} for v in metrics_desc.values]"
   ]
  },
  {
   "cell_type": "code",
   "execution_count": 13,
   "metadata": {},
   "outputs": [
    {
     "data": {
      "text/plain": [
       "[{'value': 'monthly_nbdays', 'label': '월 영업일 수'},\n",
       " {'value': 'monthly_rtn', 'label': '월 누적 수익률'},\n",
       " {'value': 'monthly_rtn_davg', 'label': '월 일 수익률 평균'},\n",
       " {'value': 'monthly_start_high_nbdays', 'label': '월 월초 ~ 고점 영업일 수'},\n",
       " {'value': 'monthly_start_high_rtn', 'label': '월 월초 ~ 고점 누적 수익률'},\n",
       " {'value': 'monthly_start_high_rtn_davg', 'label': '월 월초 ~ 고점 일 수익률 평균'},\n",
       " {'value': 'monthly_high_low_nbdays', 'label': '월 고점 ~ 고점 이후 저점 영업일 수'},\n",
       " {'value': 'monthly_high_low_rtn', 'label': '월 고점 ~ 고점 이후 저점 일 수익률 평균'},\n",
       " {'value': 'monthly_high_low_rtn_davg', 'label': '월 고점 ~ 고점 이후 저점 누적 수익률'},\n",
       " {'value': 'monthly_high_end_nbdays', 'label': '월 고점 ~ 월말 영업일 수'},\n",
       " {'value': 'monthly_high_end_rtn', 'label': '월 고점 ~ 월말 누적 수익률'},\n",
       " {'value': 'monthly_high_end_rtn_davg', 'label': '월 고점 ~ 월말 일 수익률 평균'},\n",
       " {'value': 'monthly_mdd', 'label': '월 최대 누적 손실 (MDD)'},\n",
       " {'value': 'monthly_vola', 'label': '월 일 수익률 변동성'},\n",
       " {'value': 'monthly_dvola', 'label': '월 일 수익률 하단 변동성'}]"
      ]
     },
     "execution_count": 13,
     "metadata": {},
     "output_type": "execute_result"
    }
   ],
   "source": [
    "kor"
   ]
  },
  {
   "cell_type": "code",
   "execution_count": null,
   "metadata": {},
   "outputs": [],
   "source": []
  }
 ],
 "metadata": {
  "kernelspec": {
   "display_name": "deep-value-6X-5X8kJ-py3.10",
   "language": "python",
   "name": "python3"
  },
  "language_info": {
   "codemirror_mode": {
    "name": "ipython",
    "version": 3
   },
   "file_extension": ".py",
   "mimetype": "text/x-python",
   "name": "python",
   "nbconvert_exporter": "python",
   "pygments_lexer": "ipython3",
   "version": "3.10.11"
  }
 },
 "nbformat": 4,
 "nbformat_minor": 2
}
