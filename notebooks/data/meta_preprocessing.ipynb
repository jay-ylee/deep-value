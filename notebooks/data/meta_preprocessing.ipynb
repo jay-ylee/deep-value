{
 "cells": [
  {
   "cell_type": "code",
   "execution_count": 1,
   "metadata": {},
   "outputs": [],
   "source": [
    "from pathlib import Path\n",
    "import numpy as np\n",
    "import pandas as pd"
   ]
  },
  {
   "cell_type": "code",
   "execution_count": 3,
   "metadata": {},
   "outputs": [],
   "source": [
    "# pth = Path.cwd().parent / 'data' / 'msci_acwi' / 'members'"
   ]
  },
  {
   "cell_type": "code",
   "execution_count": 4,
   "metadata": {},
   "outputs": [],
   "source": [
    "# l = []\n",
    "# for p in pth.iterdir():\n",
    "\n",
    "#     df = pd.read_excel(p, engine='openpyxl')[['Ticker', 'Name', 'Weight']]\n",
    "#     df.columns = ['ticker', 'company_name', 'weight']\n",
    "#     df['index_date'] = pd.to_datetime(p.parts[-1][11:22], format='%b %d %Y').strftime('%Y-%m-%d')\n",
    "#     l.append(df)"
   ]
  },
  {
   "cell_type": "code",
   "execution_count": 5,
   "metadata": {},
   "outputs": [],
   "source": [
    "# tdf = pd.concat(l).sort_values('index_date').reset_index(drop=True)"
   ]
  },
  {
   "cell_type": "code",
   "execution_count": 6,
   "metadata": {},
   "outputs": [],
   "source": [
    "# fdf = tdf.drop_duplicates(subset=['ticker'], keep='first')"
   ]
  },
  {
   "cell_type": "code",
   "execution_count": 7,
   "metadata": {},
   "outputs": [],
   "source": [
    "df1 = pd.read_excel(Path.cwd().parent / 'data' / 'msci_acwi' / 'mxwd_members.xlsx')"
   ]
  },
  {
   "cell_type": "code",
   "execution_count": 8,
   "metadata": {},
   "outputs": [],
   "source": [
    "df2 = pd.read_excel(Path.cwd().parent / 'data' / 'msci_acwi' / 'mxwd_members_unique.xlsx')\n",
    "df2.columns = [c.lower() for c in df2.columns]\n",
    "df2.drop(['weight', 'country_full_name', 'company_name', 'index_date'], axis=1, inplace=True)\n",
    "df2.dropna(how='any', inplace=True)\n",
    "df2.columns = ['ticker', 'gics_sector', 'gics_industry', 'gics_industry_group', '_code', 'country']"
   ]
  },
  {
   "cell_type": "code",
   "execution_count": 9,
   "metadata": {},
   "outputs": [],
   "source": [
    "df = pd.merge(df1, df2, how='inner', on='ticker').sort_values('index_date').reset_index(drop=True)"
   ]
  },
  {
   "cell_type": "code",
   "execution_count": 13,
   "metadata": {},
   "outputs": [
    {
     "data": {
      "text/html": [
       "<div>\n",
       "<style scoped>\n",
       "    .dataframe tbody tr th:only-of-type {\n",
       "        vertical-align: middle;\n",
       "    }\n",
       "\n",
       "    .dataframe tbody tr th {\n",
       "        vertical-align: top;\n",
       "    }\n",
       "\n",
       "    .dataframe thead th {\n",
       "        text-align: right;\n",
       "    }\n",
       "</style>\n",
       "<table border=\"1\" class=\"dataframe\">\n",
       "  <thead>\n",
       "    <tr style=\"text-align: right;\">\n",
       "      <th></th>\n",
       "      <th>ticker</th>\n",
       "      <th>company_name</th>\n",
       "      <th>weight</th>\n",
       "      <th>index_date</th>\n",
       "      <th>gics_sector</th>\n",
       "      <th>gics_industry</th>\n",
       "      <th>gics_industry_group</th>\n",
       "      <th>_code</th>\n",
       "      <th>country</th>\n",
       "    </tr>\n",
       "  </thead>\n",
       "  <tbody>\n",
       "    <tr>\n",
       "      <th>0</th>\n",
       "      <td>4091 JT Equity</td>\n",
       "      <td>Nippon Sanso Holdings Corp</td>\n",
       "      <td>0.005231</td>\n",
       "      <td>2014-03-31</td>\n",
       "      <td>Materials</td>\n",
       "      <td>Chemicals</td>\n",
       "      <td>Materials</td>\n",
       "      <td>JP3711600001</td>\n",
       "      <td>JN</td>\n",
       "    </tr>\n",
       "    <tr>\n",
       "      <th>2</th>\n",
       "      <td>5471 JT Equity</td>\n",
       "      <td>Daido Steel Co Ltd</td>\n",
       "      <td>0.003941</td>\n",
       "      <td>2014-03-31</td>\n",
       "      <td>Materials</td>\n",
       "      <td>Metals &amp; Mining</td>\n",
       "      <td>Materials</td>\n",
       "      <td>JP3491000000</td>\n",
       "      <td>JN</td>\n",
       "    </tr>\n",
       "    <tr>\n",
       "      <th>4</th>\n",
       "      <td>WFC UN Equity</td>\n",
       "      <td>Wells Fargo &amp; Co</td>\n",
       "      <td>0.69382</td>\n",
       "      <td>2014-03-31</td>\n",
       "      <td>Financials</td>\n",
       "      <td>Banks</td>\n",
       "      <td>Banks</td>\n",
       "      <td>US9497461015</td>\n",
       "      <td>US</td>\n",
       "    </tr>\n",
       "    <tr>\n",
       "      <th>9</th>\n",
       "      <td>CVX UN Equity</td>\n",
       "      <td>Chevron Corp</td>\n",
       "      <td>0.637443</td>\n",
       "      <td>2014-03-31</td>\n",
       "      <td>Energy</td>\n",
       "      <td>Oil, Gas &amp; Consumable Fuels</td>\n",
       "      <td>Energy</td>\n",
       "      <td>US1667641005</td>\n",
       "      <td>US</td>\n",
       "    </tr>\n",
       "    <tr>\n",
       "      <th>12</th>\n",
       "      <td>900948 CG Equity</td>\n",
       "      <td>Inner Mongolia Yitai Coal Co Ltd</td>\n",
       "      <td>0.003571</td>\n",
       "      <td>2014-03-31</td>\n",
       "      <td>Energy</td>\n",
       "      <td>Oil, Gas &amp; Consumable Fuels</td>\n",
       "      <td>Energy</td>\n",
       "      <td>CNE000000SK7</td>\n",
       "      <td>CH</td>\n",
       "    </tr>\n",
       "    <tr>\n",
       "      <th>...</th>\n",
       "      <td>...</td>\n",
       "      <td>...</td>\n",
       "      <td>...</td>\n",
       "      <td>...</td>\n",
       "      <td>...</td>\n",
       "      <td>...</td>\n",
       "      <td>...</td>\n",
       "      <td>...</td>\n",
       "      <td>...</td>\n",
       "    </tr>\n",
       "    <tr>\n",
       "      <th>111668</th>\n",
       "      <td>WPC UN Equity</td>\n",
       "      <td>WP Carey Inc</td>\n",
       "      <td>0.017105</td>\n",
       "      <td>2024-03-31</td>\n",
       "      <td>Real Estate</td>\n",
       "      <td>Diversified REITs</td>\n",
       "      <td>Equity Real Estate Investment</td>\n",
       "      <td>US92936U1097</td>\n",
       "      <td>US</td>\n",
       "    </tr>\n",
       "    <tr>\n",
       "      <th>111670</th>\n",
       "      <td>WY UN Equity</td>\n",
       "      <td>Weyerhaeuser Co</td>\n",
       "      <td>0.036331</td>\n",
       "      <td>2024-03-31</td>\n",
       "      <td>Real Estate</td>\n",
       "      <td>Specialized REITs</td>\n",
       "      <td>Equity Real Estate Investment</td>\n",
       "      <td>US9621661043</td>\n",
       "      <td>US</td>\n",
       "    </tr>\n",
       "    <tr>\n",
       "      <th>111672</th>\n",
       "      <td>DG UN Equity</td>\n",
       "      <td>Dollar General Corp</td>\n",
       "      <td>0.047474</td>\n",
       "      <td>2024-03-31</td>\n",
       "      <td>Consumer Staples</td>\n",
       "      <td>Consumer Staples Distribution</td>\n",
       "      <td>Consumer Staples Distribution</td>\n",
       "      <td>US2566771059</td>\n",
       "      <td>US</td>\n",
       "    </tr>\n",
       "    <tr>\n",
       "      <th>111673</th>\n",
       "      <td>WM UN Equity</td>\n",
       "      <td>Waste Management Inc</td>\n",
       "      <td>0.118982</td>\n",
       "      <td>2024-03-31</td>\n",
       "      <td>Industrials</td>\n",
       "      <td>Commercial Services &amp; Supplies</td>\n",
       "      <td>Commercial &amp; Professional Serv</td>\n",
       "      <td>US94106L1098</td>\n",
       "      <td>US</td>\n",
       "    </tr>\n",
       "    <tr>\n",
       "      <th>111674</th>\n",
       "      <td>7735 JT Equity</td>\n",
       "      <td>SCREEN Holdings Co Ltd</td>\n",
       "      <td>0.014861</td>\n",
       "      <td>2024-03-31</td>\n",
       "      <td>Information Technology</td>\n",
       "      <td>Semiconductors &amp; Semiconductor</td>\n",
       "      <td>Semiconductors &amp; Semiconductor</td>\n",
       "      <td>JP3494600004</td>\n",
       "      <td>JN</td>\n",
       "    </tr>\n",
       "  </tbody>\n",
       "</table>\n",
       "<p>57870 rows × 9 columns</p>\n",
       "</div>"
      ],
      "text/plain": [
       "                  ticker                      company_name    weight  \\\n",
       "0         4091 JT Equity        Nippon Sanso Holdings Corp  0.005231   \n",
       "2         5471 JT Equity                Daido Steel Co Ltd  0.003941   \n",
       "4          WFC UN Equity                  Wells Fargo & Co   0.69382   \n",
       "9          CVX UN Equity                      Chevron Corp  0.637443   \n",
       "12      900948 CG Equity  Inner Mongolia Yitai Coal Co Ltd  0.003571   \n",
       "...                  ...                               ...       ...   \n",
       "111668     WPC UN Equity                      WP Carey Inc  0.017105   \n",
       "111670      WY UN Equity                   Weyerhaeuser Co  0.036331   \n",
       "111672      DG UN Equity               Dollar General Corp  0.047474   \n",
       "111673      WM UN Equity              Waste Management Inc  0.118982   \n",
       "111674    7735 JT Equity            SCREEN Holdings Co Ltd  0.014861   \n",
       "\n",
       "        index_date             gics_sector                   gics_industry  \\\n",
       "0       2014-03-31               Materials                       Chemicals   \n",
       "2       2014-03-31               Materials                 Metals & Mining   \n",
       "4       2014-03-31              Financials                           Banks   \n",
       "9       2014-03-31                  Energy     Oil, Gas & Consumable Fuels   \n",
       "12      2014-03-31                  Energy     Oil, Gas & Consumable Fuels   \n",
       "...            ...                     ...                             ...   \n",
       "111668  2024-03-31             Real Estate               Diversified REITs   \n",
       "111670  2024-03-31             Real Estate               Specialized REITs   \n",
       "111672  2024-03-31        Consumer Staples   Consumer Staples Distribution   \n",
       "111673  2024-03-31             Industrials  Commercial Services & Supplies   \n",
       "111674  2024-03-31  Information Technology  Semiconductors & Semiconductor   \n",
       "\n",
       "                   gics_industry_group         _code country  \n",
       "0                            Materials  JP3711600001      JN  \n",
       "2                            Materials  JP3491000000      JN  \n",
       "4                                Banks  US9497461015      US  \n",
       "9                               Energy  US1667641005      US  \n",
       "12                              Energy  CNE000000SK7      CH  \n",
       "...                                ...           ...     ...  \n",
       "111668   Equity Real Estate Investment  US92936U1097      US  \n",
       "111670   Equity Real Estate Investment  US9621661043      US  \n",
       "111672   Consumer Staples Distribution  US2566771059      US  \n",
       "111673  Commercial & Professional Serv  US94106L1098      US  \n",
       "111674  Semiconductors & Semiconductor  JP3494600004      JN  \n",
       "\n",
       "[57870 rows x 9 columns]"
      ]
     },
     "execution_count": 13,
     "metadata": {},
     "output_type": "execute_result"
    }
   ],
   "source": [
    "df[df.country.isin(['US', 'CH', 'JN', 'SK'])]"
   ]
  },
  {
   "cell_type": "code",
   "execution_count": 18,
   "metadata": {},
   "outputs": [
    {
     "data": {
      "text/plain": [
       "4711"
      ]
     },
     "execution_count": 18,
     "metadata": {},
     "output_type": "execute_result"
    }
   ],
   "source": [
    "df._code.nunique()"
   ]
  },
  {
   "cell_type": "code",
   "execution_count": 15,
   "metadata": {},
   "outputs": [],
   "source": [
    "pd.DataFrame(df[df.country.isin(['US', 'CH', 'JN', 'SK'])]._code.unique(), columns=['_code']).to_excel(Path.cwd().parent / 'data' / 'msci_acwi' / 'historical.xlsx', index=False)"
   ]
  },
  {
   "cell_type": "code",
   "execution_count": null,
   "metadata": {},
   "outputs": [],
   "source": [
    "df3 = df1.groupby('company_name', as_index=False)['index_date'].agg(['min', 'max'])\n",
    "df3.columns = ['company_name', 'date_include', 'date_exclude']"
   ]
  },
  {
   "cell_type": "code",
   "execution_count": null,
   "metadata": {},
   "outputs": [],
   "source": [
    "df = pd.merge(df1, df2, how='inner', on='ticker')"
   ]
  },
  {
   "cell_type": "code",
   "execution_count": null,
   "metadata": {},
   "outputs": [],
   "source": [
    "df[df.duplicated(['_code', 'index_date'], keep=False)]"
   ]
  },
  {
   "cell_type": "code",
   "execution_count": null,
   "metadata": {},
   "outputs": [],
   "source": [
    "df"
   ]
  },
  {
   "cell_type": "code",
   "execution_count": null,
   "metadata": {},
   "outputs": [],
   "source": []
  }
 ],
 "metadata": {
  "kernelspec": {
   "display_name": "deep-value-6X-5X8kJ-py3.10",
   "language": "python",
   "name": "python3"
  },
  "language_info": {
   "codemirror_mode": {
    "name": "ipython",
    "version": 3
   },
   "file_extension": ".py",
   "mimetype": "text/x-python",
   "name": "python",
   "nbconvert_exporter": "python",
   "pygments_lexer": "ipython3",
   "version": "3.10.11"
  }
 },
 "nbformat": 4,
 "nbformat_minor": 2
}
