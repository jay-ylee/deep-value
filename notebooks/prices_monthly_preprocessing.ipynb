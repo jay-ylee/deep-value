{
 "cells": [
  {
   "cell_type": "code",
   "execution_count": 1,
   "metadata": {},
   "outputs": [],
   "source": [
    "from pathlib import Path\n",
    "import pandas as pd"
   ]
  },
  {
   "cell_type": "code",
   "execution_count": 2,
   "metadata": {},
   "outputs": [],
   "source": [
    "hdf = pd.read_csv(Path.cwd() / 'data' / 'historical_prices.csv', parse_dates=['_date'], date_format='%Y-%m-%d')\n",
    "hdf['_year'] = hdf['_date'].dt.year\n",
    "hdf['_month'] = hdf['_date'].dt.month\n",
    "hdf = hdf[(hdf['_date'] >= '2012-01-01') & (hdf['_date'] <= '2024-04-30')]"
   ]
  },
  {
   "cell_type": "code",
   "execution_count": 3,
   "metadata": {},
   "outputs": [],
   "source": [
    "# meta = pd.read_csv(Path.cwd() / 'data' / 'meta.csv', parse_dates=['first_include'], date_format='%Y-%m-%d')"
   ]
  },
  {
   "cell_type": "code",
   "execution_count": 3,
   "metadata": {},
   "outputs": [],
   "source": [
    "historical = hdf # pd.merge(hdf, meta[['_code', 'first_include']], how='left', on='_code')"
   ]
  },
  {
   "cell_type": "code",
   "execution_count": 4,
   "metadata": {},
   "outputs": [],
   "source": [
    "# historical = historical[historical['_date'] >= historical['first_include']].drop('first_include', axis=1).reset_index(drop=True)"
   ]
  },
  {
   "cell_type": "code",
   "execution_count": 5,
   "metadata": {},
   "outputs": [],
   "source": [
    "def monthly_rtn(ts: pd.Series):\n",
    "    return (ts.iloc[-1] - ts.iloc[0]) / ts.iloc[0]\n",
    "\n",
    "def monthly_high_end_rtn(ts: pd.Series):\n",
    "    mx = ts.max()\n",
    "    return (ts.iloc[-1] - mx) / mx\n",
    "\n",
    "def monthly_start_high_rtn(ts: pd.Series):\n",
    "    mx = ts.max()\n",
    "    return (mx - ts.iloc[0]) / ts.iloc[0]\n",
    "\n",
    "def daily_rtn_avg(ts: pd.Series):\n",
    "    return ts.pct_change(1).dropna().mean()\n",
    "\n",
    "def daily_vola(ts: pd.Series):\n",
    "    return ts.pct_change(1).dropna().std()\n",
    "\n",
    "def daily_dvola(ts: pd.Series):\n",
    "    r = ts.pct_change(1).dropna()\n",
    "    return r[r < 0].std()\n",
    "\n",
    "def monthly_mdd(ts: pd.Series):\n",
    "    r = ts.pct_change(1).dropna()\n",
    "    comp_ret = (r+1).cumprod()\n",
    "    peak = comp_ret.expanding(min_periods=1).max()\n",
    "    dd = (comp_ret/peak)-1\n",
    "    return abs(dd.min())"
   ]
  },
  {
   "cell_type": "code",
   "execution_count": 6,
   "metadata": {},
   "outputs": [],
   "source": [
    "monthly_historical = historical.groupby(['_code', '_year', '_month'], as_index=False)['_value'].agg(\n",
    "    [\n",
    "        monthly_rtn, \n",
    "        monthly_high_end_rtn, \n",
    "        monthly_start_high_rtn, \n",
    "        daily_rtn_avg, \n",
    "        daily_vola, \n",
    "        daily_dvola, \n",
    "        monthly_mdd\n",
    "     ]\n",
    ")"
   ]
  },
  {
   "cell_type": "code",
   "execution_count": 7,
   "metadata": {},
   "outputs": [],
   "source": [
    "monthly_historical.to_csv(Path.cwd() / 'data' / 'historical_prices_monthly_stat.csv', index=False)"
   ]
  },
  {
   "cell_type": "code",
   "execution_count": null,
   "metadata": {},
   "outputs": [],
   "source": []
  }
 ],
 "metadata": {
  "kernelspec": {
   "display_name": "deep-value-6X-5X8kJ-py3.10",
   "language": "python",
   "name": "python3"
  },
  "language_info": {
   "codemirror_mode": {
    "name": "ipython",
    "version": 3
   },
   "file_extension": ".py",
   "mimetype": "text/x-python",
   "name": "python",
   "nbconvert_exporter": "python",
   "pygments_lexer": "ipython3",
   "version": "3.10.11"
  }
 },
 "nbformat": 4,
 "nbformat_minor": 2
}
