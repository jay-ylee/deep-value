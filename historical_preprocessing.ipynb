{
 "cells": [
  {
   "cell_type": "code",
   "execution_count": 7,
   "metadata": {},
   "outputs": [],
   "source": [
    "from pathlib import Path\n",
    "import numpy as np\n",
    "import pandas as pd\n",
    "from tqdm import tqdm"
   ]
  },
  {
   "cell_type": "code",
   "execution_count": 8,
   "metadata": {},
   "outputs": [],
   "source": [
    "dates = pd.read_csv(Path.cwd() / 'data' / 'mxwd_members(us,ch,jn,sk)_dates.csv')\n"
   ]
  },
  {
   "cell_type": "code",
   "execution_count": 9,
   "metadata": {},
   "outputs": [],
   "source": [
    "pers = pd.read_csv(Path.cwd() / 'data' / 'mxwd_members(us,ch,jn,sk)_prices.csv')"
   ]
  },
  {
   "cell_type": "code",
   "execution_count": 10,
   "metadata": {},
   "outputs": [],
   "source": [
    "df = pd.DataFrame(np.nan, index = range(2535*2589), columns=['_date', '_code', '_value'])\n",
    "df['_code'] = 'a'\n",
    "df['_date'] = 'a'\n",
    "cols = list(dates.columns)"
   ]
  },
  {
   "cell_type": "code",
   "execution_count": 11,
   "metadata": {},
   "outputs": [
    {
     "name": "stderr",
     "output_type": "stream",
     "text": [
      "  0%|          | 0/2589 [00:00<?, ?it/s]"
     ]
    },
    {
     "name": "stderr",
     "output_type": "stream",
     "text": [
      "100%|██████████| 2589/2589 [05:51<00:00,  7.36it/s]\n"
     ]
    }
   ],
   "source": [
    "idx = 0\n",
    "for i in tqdm(cols):\n",
    "    df.iloc[idx:idx+2535, 0] = dates.loc[:, i]\n",
    "    df.iloc[idx:idx+2535, 1] = i\n",
    "    df.iloc[idx:idx+2535, 2] = pers.loc[:, i]\n",
    "    dates.drop([i], axis=1, inplace=True)\n",
    "    pers.drop([i], axis=1, inplace=True)\n",
    "    idx += 2535"
   ]
  },
  {
   "cell_type": "code",
   "execution_count": 12,
   "metadata": {},
   "outputs": [],
   "source": [
    "df.dropna(inplace=True)"
   ]
  },
  {
   "cell_type": "code",
   "execution_count": 13,
   "metadata": {},
   "outputs": [],
   "source": [
    "df['_date'] = df['_date'].str.pad(10, 'left', '0')"
   ]
  },
  {
   "cell_type": "code",
   "execution_count": 14,
   "metadata": {},
   "outputs": [],
   "source": [
    "df['_date'] = pd.to_datetime(df['_date'], format=\"%m/%d/%Y\").dt.strftime('%Y-%m-%d')"
   ]
  },
  {
   "cell_type": "code",
   "execution_count": 15,
   "metadata": {},
   "outputs": [],
   "source": [
    "df.to_csv(Path.cwd() / 'data' / 'historical_prices.csv', index=False)"
   ]
  },
  {
   "cell_type": "code",
   "execution_count": null,
   "metadata": {},
   "outputs": [],
   "source": []
  }
 ],
 "metadata": {
  "kernelspec": {
   "display_name": "deep-value-6X-5X8kJ-py3.10",
   "language": "python",
   "name": "python3"
  },
  "language_info": {
   "codemirror_mode": {
    "name": "ipython",
    "version": 3
   },
   "file_extension": ".py",
   "mimetype": "text/x-python",
   "name": "python",
   "nbconvert_exporter": "python",
   "pygments_lexer": "ipython3",
   "version": "3.10.11"
  }
 },
 "nbformat": 4,
 "nbformat_minor": 2
}
